{
 "cells": [
  {
   "cell_type": "code",
   "execution_count": 1,
   "metadata": {},
   "outputs": [],
   "source": [
    "import csv\n",
    "import numpy as np\n",
    "import pandas as pd\n",
    "import matplotlib.pyplot as plt"
   ]
  },
  {
   "cell_type": "code",
   "execution_count": 2,
   "metadata": {},
   "outputs": [],
   "source": [
    "col_names = ['line', 'direction', 'station_diva_id', 'date', 'should_arrive_at', \n",
    "              'actually_arrived_at', 'next_station_diva_nach']"
   ]
  },
  {
   "cell_type": "code",
   "execution_count": 3,
   "metadata": {},
   "outputs": [],
   "source": [
    "targetStationId = 2572"
   ]
  },
  {
   "cell_type": "code",
   "execution_count": 4,
   "metadata": {},
   "outputs": [],
   "source": [
    "stationDS = pd.read_csv('data/generated/station_' + str(targetStationId) + '.csv')"
   ]
  },
  {
   "cell_type": "code",
   "execution_count": 5,
   "metadata": {},
   "outputs": [
    {
     "data": {
      "text/html": [
       "<div>\n",
       "<style scoped>\n",
       "    .dataframe tbody tr th:only-of-type {\n",
       "        vertical-align: middle;\n",
       "    }\n",
       "\n",
       "    .dataframe tbody tr th {\n",
       "        vertical-align: top;\n",
       "    }\n",
       "\n",
       "    .dataframe thead th {\n",
       "        text-align: right;\n",
       "    }\n",
       "</style>\n",
       "<table border=\"1\" class=\"dataframe\">\n",
       "  <thead>\n",
       "    <tr style=\"text-align: right;\">\n",
       "      <th></th>\n",
       "      <th>actually_arrived_at</th>\n",
       "      <th>date</th>\n",
       "      <th>delays</th>\n",
       "      <th>direction</th>\n",
       "      <th>line</th>\n",
       "      <th>next_station_diva_nach</th>\n",
       "      <th>should_arrive_at</th>\n",
       "      <th>station_diva_id</th>\n",
       "      <th>delayrank</th>\n",
       "    </tr>\n",
       "  </thead>\n",
       "  <tbody>\n",
       "    <tr>\n",
       "      <th>0</th>\n",
       "      <td>16832</td>\n",
       "      <td>2019-04-14</td>\n",
       "      <td>32.0</td>\n",
       "      <td>1</td>\n",
       "      <td>12</td>\n",
       "      <td>3447</td>\n",
       "      <td>16800</td>\n",
       "      <td>2572</td>\n",
       "      <td>Low</td>\n",
       "    </tr>\n",
       "    <tr>\n",
       "      <th>1</th>\n",
       "      <td>18190</td>\n",
       "      <td>2019-04-14</td>\n",
       "      <td>136.0</td>\n",
       "      <td>2</td>\n",
       "      <td>14</td>\n",
       "      <td>3447</td>\n",
       "      <td>18054</td>\n",
       "      <td>2572</td>\n",
       "      <td>Medium</td>\n",
       "    </tr>\n",
       "    <tr>\n",
       "      <th>2</th>\n",
       "      <td>18293</td>\n",
       "      <td>2019-04-14</td>\n",
       "      <td>11.0</td>\n",
       "      <td>1</td>\n",
       "      <td>10</td>\n",
       "      <td>2151</td>\n",
       "      <td>18282</td>\n",
       "      <td>2572</td>\n",
       "      <td>Low</td>\n",
       "    </tr>\n",
       "    <tr>\n",
       "      <th>3</th>\n",
       "      <td>18332</td>\n",
       "      <td>2019-04-14</td>\n",
       "      <td>8.0</td>\n",
       "      <td>1</td>\n",
       "      <td>62</td>\n",
       "      <td>3154</td>\n",
       "      <td>18324</td>\n",
       "      <td>2572</td>\n",
       "      <td>Low</td>\n",
       "    </tr>\n",
       "    <tr>\n",
       "      <th>4</th>\n",
       "      <td>18415</td>\n",
       "      <td>2019-04-14</td>\n",
       "      <td>31.0</td>\n",
       "      <td>1</td>\n",
       "      <td>75</td>\n",
       "      <td>694</td>\n",
       "      <td>18384</td>\n",
       "      <td>2572</td>\n",
       "      <td>Low</td>\n",
       "    </tr>\n",
       "  </tbody>\n",
       "</table>\n",
       "</div>"
      ],
      "text/plain": [
       "   actually_arrived_at        date  delays  direction  line  \\\n",
       "0                16832  2019-04-14    32.0          1    12   \n",
       "1                18190  2019-04-14   136.0          2    14   \n",
       "2                18293  2019-04-14    11.0          1    10   \n",
       "3                18332  2019-04-14     8.0          1    62   \n",
       "4                18415  2019-04-14    31.0          1    75   \n",
       "\n",
       "   next_station_diva_nach  should_arrive_at  station_diva_id delayrank  \n",
       "0                    3447             16800             2572       Low  \n",
       "1                    3447             18054             2572    Medium  \n",
       "2                    2151             18282             2572       Low  \n",
       "3                    3154             18324             2572       Low  \n",
       "4                     694             18384             2572       Low  "
      ]
     },
     "execution_count": 5,
     "metadata": {},
     "output_type": "execute_result"
    }
   ],
   "source": [
    "stationDS['delayrank'] = pd.cut(stationDS.delays,\n",
    "                     bins=[-1, 100, 150, 201],\n",
    "                     labels=[\"Low\", \"Medium\", \"High\"])\n",
    "# stationDS['delayrank'] = pd.cut(stationDS.delays,\n",
    "#                      bins=[-1, 120, 201],\n",
    "#                      labels=[\"Low\", \"High\"])\n",
    "stationDS.head()"
   ]
  },
  {
   "cell_type": "code",
   "execution_count": 6,
   "metadata": {},
   "outputs": [
    {
     "data": {
      "text/plain": [
       "actually_arrived_at       0\n",
       "date                      0\n",
       "delays                    0\n",
       "direction                 0\n",
       "line                      0\n",
       "next_station_diva_nach    0\n",
       "should_arrive_at          0\n",
       "station_diva_id           0\n",
       "delayrank                 0\n",
       "dtype: int64"
      ]
     },
     "execution_count": 6,
     "metadata": {},
     "output_type": "execute_result"
    }
   ],
   "source": [
    "stationDS.isna().sum()"
   ]
  },
  {
   "cell_type": "markdown",
   "metadata": {},
   "source": [
    "Data types of the columns"
   ]
  },
  {
   "cell_type": "code",
   "execution_count": 7,
   "metadata": {},
   "outputs": [
    {
     "data": {
      "text/plain": [
       "actually_arrived_at          int64\n",
       "date                        object\n",
       "delays                     float64\n",
       "direction                    int64\n",
       "line                         int64\n",
       "next_station_diva_nach       int64\n",
       "should_arrive_at             int64\n",
       "station_diva_id              int64\n",
       "delayrank                 category\n",
       "dtype: object"
      ]
     },
     "execution_count": 7,
     "metadata": {},
     "output_type": "execute_result"
    }
   ],
   "source": [
    "stationDS.dtypes\n",
    "# stationDS.date.unique()"
   ]
  },
  {
   "cell_type": "code",
   "execution_count": 8,
   "metadata": {},
   "outputs": [],
   "source": [
    "ds = stationDS.copy()\n",
    "# ds = ds.loc[(ds['line'] == 8) | (ds['line'] == 10) | (ds['line'] == 75)]"
   ]
  },
  {
   "cell_type": "code",
   "execution_count": 9,
   "metadata": {},
   "outputs": [
    {
     "name": "stdout",
     "output_type": "stream",
     "text": [
      "[8, 10, 11, 12, 14, 15, 17, 61, 62, 75, 94]\n"
     ]
    },
    {
     "data": {
      "image/png": "[encoded data removed]",
      "text/plain": [
       "<Figure size 1080x360 with 4 Axes>"
      ]
     },
     "metadata": {
      "needs_background": "light"
     },
     "output_type": "display_data"
    }
   ],
   "source": [
    "#Plotting graphs\n",
    "\n",
    "# fig, ax = plt.subplots()\n",
    "# ax.set_title('Data count per day')\n",
    "# ax.set_ylabel('count')\n",
    "# ax.plot(count_per_day.index, count_per_day.line)\n",
    "# ax.margins(x=0, y=0)\n",
    "\n",
    "# plt.hist(ds.date)\n",
    "# plt.ylabel('Data count per day');\n",
    "\n",
    "\n",
    "# Set up the plotting layout\n",
    "fig, ((ax1, ax2), (ax21, ax22)) = plt.subplots(nrows=2, ncols=2, figsize = (15,5))\n",
    "fig.autofmt_xdate(rotation = 45)\n",
    "\n",
    "ax1.set_xlabel('Date'); ax1.set_ylabel('count'); ax1.set_title('Data count per day')\n",
    "# ax1.hist(ds.date)\n",
    "count_per_day = ds.groupby('date').count()\n",
    "ax1.bar(count_per_day.index, count_per_day.line, orientation = 'vertical', color = 'r', edgecolor = 'k', linewidth = 1.2);\n",
    "\n",
    "\n",
    "ax2.set_xlabel('Line'); ax2.set_ylabel('count'); ax2.set_title('Data count per line')\n",
    "# ax2.hist(ds.line);\n",
    "count_per_line = ds.groupby('line').count()\n",
    "ax2.bar(count_per_line.index, count_per_line.date, orientation = 'vertical', color = 'r', edgecolor = 'k', linewidth = 1.2);\n",
    "lines = ds.line.unique()\n",
    "print(sorted(lines))\n",
    "# plt.xticks(count_per_line.index, count_per_line['index'].apply(str), rotation='vertical')\n",
    "\n",
    "# fig, ax1 = plt.subplots(nrows=1, ncols=1, figsize = (15,5))\n",
    "# fig.autofmt_xdate(rotation = 45)\n",
    "\n",
    "ax21.set_xlabel('Time (sec)'); ax21.set_ylabel('count'); ax21.set_title('Delays distribution')\n",
    "ax21.hist(ds.delays, bins=100);\n",
    "# ax1.scatter(delays, delays);\n",
    "# count_per_line = ds.groupby('line').count()\n",
    "# ax2.bar(count_per_line.index, count_per_line.date, orientation = 'vertical', color = 'r', edgecolor = 'k', linewidth = 1.2);\n",
    "\n",
    "ax22.set_xlabel('Delay category'); ax22.set_ylabel('count'); ax22.set_title('Data count per Delay category')\n",
    "ax22.hist(ds.delayrank);"
   ]
  },
  {
   "cell_type": "code",
   "execution_count": 10,
   "metadata": {},
   "outputs": [
    {
     "name": "stdout",
     "output_type": "stream",
     "text": [
      "(82874, 8)\n"
     ]
    },
    {
     "data": {
      "text/html": [
       "<div>\n",
       "<style scoped>\n",
       "    .dataframe tbody tr th:only-of-type {\n",
       "        vertical-align: middle;\n",
       "    }\n",
       "\n",
       "    .dataframe tbody tr th {\n",
       "        vertical-align: top;\n",
       "    }\n",
       "\n",
       "    .dataframe thead th {\n",
       "        text-align: right;\n",
       "    }\n",
       "</style>\n",
       "<table border=\"1\" class=\"dataframe\">\n",
       "  <thead>\n",
       "    <tr style=\"text-align: right;\">\n",
       "      <th></th>\n",
       "      <th>direction</th>\n",
       "      <th>line</th>\n",
       "      <th>next_station_diva_nach</th>\n",
       "      <th>should_arrive_at</th>\n",
       "      <th>delayrank</th>\n",
       "      <th>day_of_week</th>\n",
       "      <th>day</th>\n",
       "      <th>month</th>\n",
       "    </tr>\n",
       "  </thead>\n",
       "  <tbody>\n",
       "    <tr>\n",
       "      <th>0</th>\n",
       "      <td>1</td>\n",
       "      <td>12</td>\n",
       "      <td>3447</td>\n",
       "      <td>16800</td>\n",
       "      <td>Low</td>\n",
       "      <td>6</td>\n",
       "      <td>14</td>\n",
       "      <td>4</td>\n",
       "    </tr>\n",
       "    <tr>\n",
       "      <th>1</th>\n",
       "      <td>2</td>\n",
       "      <td>14</td>\n",
       "      <td>3447</td>\n",
       "      <td>18054</td>\n",
       "      <td>Medium</td>\n",
       "      <td>6</td>\n",
       "      <td>14</td>\n",
       "      <td>4</td>\n",
       "    </tr>\n",
       "    <tr>\n",
       "      <th>2</th>\n",
       "      <td>1</td>\n",
       "      <td>10</td>\n",
       "      <td>2151</td>\n",
       "      <td>18282</td>\n",
       "      <td>Low</td>\n",
       "      <td>6</td>\n",
       "      <td>14</td>\n",
       "      <td>4</td>\n",
       "    </tr>\n",
       "    <tr>\n",
       "      <th>3</th>\n",
       "      <td>1</td>\n",
       "      <td>62</td>\n",
       "      <td>3154</td>\n",
       "      <td>18324</td>\n",
       "      <td>Low</td>\n",
       "      <td>6</td>\n",
       "      <td>14</td>\n",
       "      <td>4</td>\n",
       "    </tr>\n",
       "    <tr>\n",
       "      <th>4</th>\n",
       "      <td>1</td>\n",
       "      <td>75</td>\n",
       "      <td>694</td>\n",
       "      <td>18384</td>\n",
       "      <td>Low</td>\n",
       "      <td>6</td>\n",
       "      <td>14</td>\n",
       "      <td>4</td>\n",
       "    </tr>\n",
       "  </tbody>\n",
       "</table>\n",
       "</div>"
      ],
      "text/plain": [
       "   direction  line  next_station_diva_nach  should_arrive_at delayrank  \\\n",
       "0          1    12                    3447             16800       Low   \n",
       "1          2    14                    3447             18054    Medium   \n",
       "2          1    10                    2151             18282       Low   \n",
       "3          1    62                    3154             18324       Low   \n",
       "4          1    75                     694             18384       Low   \n",
       "\n",
       "   day_of_week  day  month  \n",
       "0            6   14      4  \n",
       "1            6   14      4  \n",
       "2            6   14      4  \n",
       "3            6   14      4  \n",
       "4            6   14      4  "
      ]
     },
     "execution_count": 10,
     "metadata": {},
     "output_type": "execute_result"
    }
   ],
   "source": [
    "# Add column to represent day of week\n",
    "# ds['date'] = pd.to_datetime(ds['date'])\n",
    "ds['day_of_week'] = pd.to_datetime(ds['date']).dt.weekday\n",
    "\n",
    "# split date into day, month, year\n",
    "ds['day'] = pd.to_datetime(ds['date']).dt.day\n",
    "ds['month'] = pd.to_datetime(ds['date']).dt.month\n",
    "# ds['year'] = pd.to_datetime(ds['date']).dt.year\n",
    "\n",
    "# drop date column because we splitted it\n",
    "ds = ds.drop('date', axis = 1)\n",
    "\n",
    "# drop 'actually_arrived_at' column because we have delays now!\n",
    "ds = ds.drop('actually_arrived_at', axis = 1)\n",
    "\n",
    "ds = ds.drop('station_diva_id', axis = 1)\n",
    "\n",
    "ds = ds.drop('delays', axis = 1)\n",
    "\n",
    "print(ds.shape)\n",
    "ds.head()\n",
    "# ds.day_of_week.unique()"
   ]
  },
  {
   "cell_type": "code",
   "execution_count": 11,
   "metadata": {},
   "outputs": [],
   "source": [
    "labels = ds.delayrank\n",
    "# convert label (i.e. delayrank) to one-hot-encoding\n",
    "cat_columns = [\"delayrank\"]\n",
    "labels = pd.get_dummies(labels, prefix_sep=\"__\", columns=cat_columns)\n",
    "# labels.head()\n",
    "\n",
    "labels_names = list(labels.columns)\n",
    "# print(labels_names)\n",
    "# Convert to numpy array\n",
    "labels = np.array(labels)"
   ]
  },
  {
   "cell_type": "code",
   "execution_count": 12,
   "metadata": {},
   "outputs": [],
   "source": [
    "tempDS = ds.drop('delayrank', axis = 1)\n",
    "# tempDS.head()\n",
    "# tempDS = tempDS.drop('next_station_diva_nach', axis = 1)\n",
    "# tempDS = tempDS.drop('month', axis = 1)\n",
    "# tempDS = tempDS.drop('direction', axis = 1)\n",
    "\n",
    "features = np.array(tempDS)\n",
    "\n",
    "# Saving feature names for later use\n",
    "feature_list = list(tempDS.columns)"
   ]
  },
  {
   "cell_type": "markdown",
   "metadata": {},
   "source": [
    "As there are some 0 in labels so when calculating accuracy, dividing by zero results in infinity, so adding 1 to all labels (i.e. delays). Now, 1 means no delay!"
   ]
  },
  {
   "cell_type": "code",
   "execution_count": 13,
   "metadata": {},
   "outputs": [],
   "source": [
    "# labels = labels + 1"
   ]
  },
  {
   "cell_type": "code",
   "execution_count": 14,
   "metadata": {},
   "outputs": [
    {
     "name": "stdout",
     "output_type": "stream",
     "text": [
      "[[    1    12  3447 16800     6    14     4]\n",
      " [    2    14  3447 18054     6    14     4]\n",
      " [    1    10  2151 18282     6    14     4]\n",
      " [    1    62  3154 18324     6    14     4]\n",
      " [    1    75   694 18384     6    14     4]]\n",
      "[[1 0 0]\n",
      " [0 1 0]\n",
      " [1 0 0]\n",
      " [1 0 0]\n",
      " [1 0 0]]\n"
     ]
    }
   ],
   "source": [
    "print(features[:5])\n",
    "print(labels[:5])"
   ]
  },
  {
   "cell_type": "code",
   "execution_count": 15,
   "metadata": {},
   "outputs": [],
   "source": [
    "# delete variables\n",
    "del ds\n",
    "del stationDS"
   ]
  },
  {
   "cell_type": "code",
   "execution_count": 16,
   "metadata": {},
   "outputs": [
    {
     "name": "stdout",
     "output_type": "stream",
     "text": [
      "Training Features Shape: (66299, 7)\n",
      "Training Labels Shape: (66299, 3)\n",
      "Testing Features Shape: (16575, 7)\n",
      "Testing Labels Shape: (16575, 3)\n"
     ]
    }
   ],
   "source": [
    "from sklearn.model_selection import train_test_split\n",
    "from sklearn import metrics\n",
    "\n",
    "# train_features, test_features, train_labels, test_labels = train_test_split(\n",
    "#     features, labels, test_size = 0.20, random_state = 42\n",
    "# );\n",
    "\n",
    "train_features, test_features, train_labels, test_labels = train_test_split(\n",
    "    features, labels, test_size = 0.20, shuffle=False\n",
    ");\n",
    "\n",
    "print('Training Features Shape:', train_features.shape)\n",
    "print('Training Labels Shape:', train_labels.shape)\n",
    "print('Testing Features Shape:', test_features.shape)\n",
    "print('Testing Labels Shape:', test_labels.shape)"
   ]
  },
  {
   "cell_type": "code",
   "execution_count": 17,
   "metadata": {},
   "outputs": [],
   "source": [
    "from sklearn.ensemble import RandomForestClassifier\n",
    "\n",
    "# Instantiate model with 1000 decision trees\n",
    "rf = RandomForestClassifier(n_estimators = 500, random_state = 42)\n",
    "\n",
    "# Train the model on training data\n",
    "rf.fit(train_features, train_labels);"
   ]
  },
  {
   "cell_type": "code",
   "execution_count": 18,
   "metadata": {},
   "outputs": [
    {
     "name": "stdout",
     "output_type": "stream",
     "text": [
      "[Train] Accuracy: 0.9998793345299326\n"
     ]
    }
   ],
   "source": [
    "# Use the forest's predict method on the training data\n",
    "train_predictions = rf.predict(train_features)\n",
    "print(\"[Train] Accuracy:\", metrics.accuracy_score(train_labels, train_predictions))"
   ]
  },
  {
   "cell_type": "code",
   "execution_count": 19,
   "metadata": {},
   "outputs": [
    {
     "name": "stdout",
     "output_type": "stream",
     "text": [
      "[Test] Accuracy: 0.7575867269984917\n"
     ]
    }
   ],
   "source": [
    "# Use the forest's predict method on the test data\n",
    "test_predictions = rf.predict(test_features)\n",
    "print(\"[Test] Accuracy:\", metrics.accuracy_score(test_labels, test_predictions))\n",
    "# print(test_labels[:20])\n",
    "# print(test_predictions[:20])"
   ]
  },
  {
   "cell_type": "code",
   "execution_count": 20,
   "metadata": {},
   "outputs": [
    {
     "data": {
      "image/png": "[encoded data removed]",
      "text/plain": [
       "<Figure size 432x288 with 1 Axes>"
      ]
     },
     "metadata": {},
     "output_type": "display_data"
    }
   ],
   "source": [
    "# Get numerical feature importances\n",
    "importances = list(rf.feature_importances_)\n",
    "\n",
    "# List of tuples with variable and importance\n",
    "feature_importances = [(feature, round(importance, 2)) for feature, importance in zip(feature_list, importances)]\n",
    "\n",
    "# Sort the feature importances by most important first\n",
    "feature_importances = sorted(feature_importances, key = lambda x: x[1], reverse = True)\n",
    "\n",
    "# Set the style\n",
    "plt.style.use('fivethirtyeight')\n",
    "\n",
    "# list of x locations for plotting\n",
    "x_values = list(range(len(importances)))\n",
    "\n",
    "# Make a bar chart\n",
    "plt.bar(x_values, importances, orientation = 'vertical')\n",
    "\n",
    "# Tick labels for x axis\n",
    "plt.xticks(x_values, feature_list, rotation='vertical')\n",
    "plt.ylabel('Importance'); plt.xlabel('Variable'); plt.title('Variable Importances');"
   ]
  },
  {
   "cell_type": "code",
   "execution_count": null,
   "metadata": {},
   "outputs": [],
   "source": []
  },
  {
   "cell_type": "code",
   "execution_count": null,
   "metadata": {},
   "outputs": [],
   "source": []
  }
 ],
 "metadata": {
  "kernelspec": {
   "display_name": "Python 3",
   "language": "python",
   "name": "python3"
  },
  "language_info": {
   "codemirror_mode": {
    "name": "ipython",
    "version": 3
   },
   "file_extension": ".py",
   "mimetype": "text/x-python",
   "name": "python",
   "nbconvert_exporter": "python",
   "pygments_lexer": "ipython3",
   "version": "3.7.3"
  }
 },
 "nbformat": 4,
 "nbformat_minor": 2
}
