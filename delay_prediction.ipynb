{
 "cells": [
  {
   "cell_type": "code",
   "execution_count": 1,
   "metadata": {},
   "outputs": [],
   "source": [
    "import csv\n",
    "import numpy as np\n",
    "import pandas as pd\n",
    "import matplotlib.pyplot as plt"
   ]
  },
  {
   "cell_type": "code",
   "execution_count": 2,
   "metadata": {},
   "outputs": [],
   "source": [
    "col_names = ['line', 'direction', 'station_diva_id', 'date', 'should_arrive_at', \n",
    "              'actually_arrived_at', 'next_station_diva_nach']"
   ]
  },
  {
   "cell_type": "markdown",
   "metadata": {},
   "source": [
    "Only working with single public transport station to predict the behaviour on single station"
   ]
  },
  {
   "cell_type": "code",
   "execution_count": 3,
   "metadata": {},
   "outputs": [],
   "source": [
    "targetStationId = 2572"
   ]
  },
  {
   "cell_type": "markdown",
   "metadata": {},
   "source": [
    "Read weekly data, filter out and append to stationDS (i.e. station dataset)"
   ]
  },
  {
   "cell_type": "code",
   "execution_count": 4,
   "metadata": {},
   "outputs": [
    {
     "name": "stderr",
     "output_type": "stream",
     "text": [
      "/home/faizi/programs/anaconda3/envs/dps/lib/python3.7/site-packages/pandas/core/frame.py:6692: FutureWarning: Sorting because non-concatenation axis is not aligned. A future version\n",
      "of pandas will change to not sort by default.\n",
      "\n",
      "To accept the future behavior, pass 'sort=False'.\n",
      "\n",
      "To retain the current behavior and silence the warning, pass 'sort=True'.\n",
      "\n",
      "  sort=sort)\n"
     ]
    }
   ],
   "source": [
    "stationDS = pd.DataFrame(columns=col_names)\n",
    "\n",
    "csv_names = ['fahrzeiten_soll_ist_20190630_20190706.csv',\n",
    "             'fahrzeiten_soll_ist_20190623_20190629.csv',\n",
    "             'fahrzeiten_soll_ist_20190616_20190622.csv', \n",
    "             'fahrzeiten_soll_ist_20190609_20190615.csv',\n",
    "             'fahrzeiten_soll_ist_20190602_20190608.csv',\n",
    "             'fahrzeiten_soll_ist_20190526_20190601.csv',\n",
    "             'fahrzeiten_soll_ist_20190519_20190525.csv',\n",
    "             'fahrzeiten_soll_ist_20190512_20190518.csv',\n",
    "             'fahrzeiten_soll_ist_20190505_20190511.csv',\n",
    "             'fahrzeiten_soll_ist_20190428_20190504.csv',\n",
    "             'fahrzeiten_soll_ist_20190421_20190427.csv',\n",
    "             'fahrzeiten_soll_ist_20190414_20190420.csv']\n",
    "\n",
    "for name in csv_names:\n",
    "    dataSet = pd.read_csv('data/' + name)\n",
    "    # filter required columns\n",
    "    ds = dataSet.loc[:, ['linie', 'richtung', 'halt_diva_von', 'datum_von', 'soll_an_von', 'ist_an_von', 'halt_diva_nach']]\n",
    "    # filter data for only the target station\n",
    "    ds = ds.loc[ds['halt_diva_von'] == targetStationId]\n",
    "    # rename column name to English\n",
    "    ds.columns = col_names\n",
    "    # Calculate delays\n",
    "    ds['delays'] = ds['actually_arrived_at'] - ds['should_arrive_at']\n",
    "    # Filter out rows with delay 0 <= dealy < 600\n",
    "    ds = ds.loc[(ds['delays'] >= 0) & (ds['delays'] < 600)]\n",
    "    # Append to stationDS\n",
    "    stationDS = stationDS.append(ds.copy())\n",
    "    # Release memory\n",
    "    del ds"
   ]
  },
  {
   "cell_type": "code",
   "execution_count": 5,
   "metadata": {},
   "outputs": [
    {
     "name": "stdout",
     "output_type": "stream",
     "text": [
      "stationDS shape:  (88066, 8)\n"
     ]
    },
    {
     "data": {
      "text/html": [
       "<div>\n",
       "<style scoped>\n",
       "    .dataframe tbody tr th:only-of-type {\n",
       "        vertical-align: middle;\n",
       "    }\n",
       "\n",
       "    .dataframe tbody tr th {\n",
       "        vertical-align: top;\n",
       "    }\n",
       "\n",
       "    .dataframe thead th {\n",
       "        text-align: right;\n",
       "    }\n",
       "</style>\n",
       "<table border=\"1\" class=\"dataframe\">\n",
       "  <thead>\n",
       "    <tr style=\"text-align: right;\">\n",
       "      <th></th>\n",
       "      <th>actually_arrived_at</th>\n",
       "      <th>date</th>\n",
       "      <th>delays</th>\n",
       "      <th>direction</th>\n",
       "      <th>line</th>\n",
       "      <th>next_station_diva_nach</th>\n",
       "      <th>should_arrive_at</th>\n",
       "      <th>station_diva_id</th>\n",
       "    </tr>\n",
       "  </thead>\n",
       "  <tbody>\n",
       "    <tr>\n",
       "      <th>231946</th>\n",
       "      <td>16832</td>\n",
       "      <td>2019-04-14</td>\n",
       "      <td>32.0</td>\n",
       "      <td>1</td>\n",
       "      <td>12</td>\n",
       "      <td>3447</td>\n",
       "      <td>16800</td>\n",
       "      <td>2572</td>\n",
       "    </tr>\n",
       "    <tr>\n",
       "      <th>105772</th>\n",
       "      <td>18190</td>\n",
       "      <td>2019-04-14</td>\n",
       "      <td>136.0</td>\n",
       "      <td>2</td>\n",
       "      <td>14</td>\n",
       "      <td>3447</td>\n",
       "      <td>18054</td>\n",
       "      <td>2572</td>\n",
       "    </tr>\n",
       "    <tr>\n",
       "      <th>1318815</th>\n",
       "      <td>18293</td>\n",
       "      <td>2019-04-14</td>\n",
       "      <td>11.0</td>\n",
       "      <td>1</td>\n",
       "      <td>10</td>\n",
       "      <td>2151</td>\n",
       "      <td>18282</td>\n",
       "      <td>2572</td>\n",
       "    </tr>\n",
       "    <tr>\n",
       "      <th>783140</th>\n",
       "      <td>18332</td>\n",
       "      <td>2019-04-14</td>\n",
       "      <td>8.0</td>\n",
       "      <td>1</td>\n",
       "      <td>62</td>\n",
       "      <td>3154</td>\n",
       "      <td>18324</td>\n",
       "      <td>2572</td>\n",
       "    </tr>\n",
       "    <tr>\n",
       "      <th>345655</th>\n",
       "      <td>18415</td>\n",
       "      <td>2019-04-14</td>\n",
       "      <td>31.0</td>\n",
       "      <td>1</td>\n",
       "      <td>75</td>\n",
       "      <td>694</td>\n",
       "      <td>18384</td>\n",
       "      <td>2572</td>\n",
       "    </tr>\n",
       "    <tr>\n",
       "      <th>951210</th>\n",
       "      <td>18758</td>\n",
       "      <td>2019-04-14</td>\n",
       "      <td>26.0</td>\n",
       "      <td>1</td>\n",
       "      <td>14</td>\n",
       "      <td>2151</td>\n",
       "      <td>18732</td>\n",
       "      <td>2572</td>\n",
       "    </tr>\n",
       "    <tr>\n",
       "      <th>467128</th>\n",
       "      <td>18866</td>\n",
       "      <td>2019-04-14</td>\n",
       "      <td>14.0</td>\n",
       "      <td>1</td>\n",
       "      <td>11</td>\n",
       "      <td>3034</td>\n",
       "      <td>18852</td>\n",
       "      <td>2572</td>\n",
       "    </tr>\n",
       "    <tr>\n",
       "      <th>118602</th>\n",
       "      <td>18904</td>\n",
       "      <td>2019-04-14</td>\n",
       "      <td>10.0</td>\n",
       "      <td>2</td>\n",
       "      <td>14</td>\n",
       "      <td>3447</td>\n",
       "      <td>18894</td>\n",
       "      <td>2572</td>\n",
       "    </tr>\n",
       "    <tr>\n",
       "      <th>486756</th>\n",
       "      <td>18961</td>\n",
       "      <td>2019-04-14</td>\n",
       "      <td>7.0</td>\n",
       "      <td>1</td>\n",
       "      <td>15</td>\n",
       "      <td>3034</td>\n",
       "      <td>18954</td>\n",
       "      <td>2572</td>\n",
       "    </tr>\n",
       "    <tr>\n",
       "      <th>402413</th>\n",
       "      <td>19445</td>\n",
       "      <td>2019-04-14</td>\n",
       "      <td>41.0</td>\n",
       "      <td>1</td>\n",
       "      <td>75</td>\n",
       "      <td>694</td>\n",
       "      <td>19404</td>\n",
       "      <td>2572</td>\n",
       "    </tr>\n",
       "  </tbody>\n",
       "</table>\n",
       "</div>"
      ],
      "text/plain": [
       "        actually_arrived_at       date  delays direction line  \\\n",
       "231946                16832 2019-04-14    32.0         1   12   \n",
       "105772                18190 2019-04-14   136.0         2   14   \n",
       "1318815               18293 2019-04-14    11.0         1   10   \n",
       "783140                18332 2019-04-14     8.0         1   62   \n",
       "345655                18415 2019-04-14    31.0         1   75   \n",
       "951210                18758 2019-04-14    26.0         1   14   \n",
       "467128                18866 2019-04-14    14.0         1   11   \n",
       "118602                18904 2019-04-14    10.0         2   14   \n",
       "486756                18961 2019-04-14     7.0         1   15   \n",
       "402413                19445 2019-04-14    41.0         1   75   \n",
       "\n",
       "        next_station_diva_nach should_arrive_at station_diva_id  \n",
       "231946                    3447            16800            2572  \n",
       "105772                    3447            18054            2572  \n",
       "1318815                   2151            18282            2572  \n",
       "783140                    3154            18324            2572  \n",
       "345655                     694            18384            2572  \n",
       "951210                    2151            18732            2572  \n",
       "467128                    3034            18852            2572  \n",
       "118602                    3447            18894            2572  \n",
       "486756                    3034            18954            2572  \n",
       "402413                     694            19404            2572  "
      ]
     },
     "execution_count": 5,
     "metadata": {},
     "output_type": "execute_result"
    }
   ],
   "source": [
    "print('stationDS shape: ', stationDS.shape)\n",
    "# sort data by date and expected arrival time\n",
    "stationDS['date'] = pd.to_datetime(stationDS['date'], format='%d.%m.%y')\n",
    "stationDS = stationDS.sort_values(by=['date', 'should_arrive_at'], ascending=True)\n",
    "stationDS.head(10)"
   ]
  },
  {
   "cell_type": "markdown",
   "metadata": {},
   "source": [
    "Save to file for reference"
   ]
  },
  {
   "cell_type": "code",
   "execution_count": 6,
   "metadata": {},
   "outputs": [],
   "source": [
    "fileToSave = 'data/generated/station_' + str(targetStationId) + '.csv'\n",
    "stationDS.to_csv(fileToSave, encoding='utf-8', index=False)"
   ]
  },
  {
   "cell_type": "code",
   "execution_count": 7,
   "metadata": {},
   "outputs": [],
   "source": [
    "# stationDS = pd.read_csv('data/generated/station_' + str(targetStationId) + '.csv')"
   ]
  },
  {
   "cell_type": "markdown",
   "metadata": {},
   "source": [
    "Data types of the columns"
   ]
  },
  {
   "cell_type": "code",
   "execution_count": 8,
   "metadata": {},
   "outputs": [
    {
     "data": {
      "text/plain": [
       "array(['2019-04-14T00:00:00.000000000', '2019-04-15T00:00:00.000000000',\n",
       "       '2019-04-16T00:00:00.000000000', '2019-04-17T00:00:00.000000000',\n",
       "       '2019-04-18T00:00:00.000000000', '2019-04-19T00:00:00.000000000',\n",
       "       '2019-04-20T00:00:00.000000000', '2019-04-21T00:00:00.000000000',\n",
       "       '2019-04-22T00:00:00.000000000', '2019-04-23T00:00:00.000000000',\n",
       "       '2019-04-24T00:00:00.000000000', '2019-04-25T00:00:00.000000000',\n",
       "       '2019-04-26T00:00:00.000000000', '2019-04-27T00:00:00.000000000',\n",
       "       '2019-04-28T00:00:00.000000000', '2019-04-29T00:00:00.000000000',\n",
       "       '2019-04-30T00:00:00.000000000', '2019-05-01T00:00:00.000000000',\n",
       "       '2019-05-02T00:00:00.000000000', '2019-05-03T00:00:00.000000000',\n",
       "       '2019-05-04T00:00:00.000000000', '2019-05-05T00:00:00.000000000',\n",
       "       '2019-05-06T00:00:00.000000000', '2019-05-07T00:00:00.000000000',\n",
       "       '2019-05-08T00:00:00.000000000', '2019-05-09T00:00:00.000000000',\n",
       "       '2019-05-10T00:00:00.000000000', '2019-05-11T00:00:00.000000000',\n",
       "       '2019-05-12T00:00:00.000000000', '2019-05-13T00:00:00.000000000',\n",
       "       '2019-05-14T00:00:00.000000000', '2019-05-15T00:00:00.000000000',\n",
       "       '2019-05-16T00:00:00.000000000', '2019-05-17T00:00:00.000000000',\n",
       "       '2019-05-18T00:00:00.000000000', '2019-05-19T00:00:00.000000000',\n",
       "       '2019-05-20T00:00:00.000000000', '2019-05-21T00:00:00.000000000',\n",
       "       '2019-05-22T00:00:00.000000000', '2019-05-23T00:00:00.000000000',\n",
       "       '2019-05-24T00:00:00.000000000', '2019-05-25T00:00:00.000000000',\n",
       "       '2019-05-26T00:00:00.000000000', '2019-05-27T00:00:00.000000000',\n",
       "       '2019-05-28T00:00:00.000000000', '2019-05-29T00:00:00.000000000',\n",
       "       '2019-05-30T00:00:00.000000000', '2019-05-31T00:00:00.000000000',\n",
       "       '2019-06-01T00:00:00.000000000', '2019-06-02T00:00:00.000000000',\n",
       "       '2019-06-03T00:00:00.000000000', '2019-06-04T00:00:00.000000000',\n",
       "       '2019-06-05T00:00:00.000000000', '2019-06-06T00:00:00.000000000',\n",
       "       '2019-06-07T00:00:00.000000000', '2019-06-08T00:00:00.000000000',\n",
       "       '2019-06-09T00:00:00.000000000', '2019-06-10T00:00:00.000000000',\n",
       "       '2019-06-11T00:00:00.000000000', '2019-06-12T00:00:00.000000000',\n",
       "       '2019-06-13T00:00:00.000000000', '2019-06-14T00:00:00.000000000',\n",
       "       '2019-06-15T00:00:00.000000000', '2019-06-16T00:00:00.000000000',\n",
       "       '2019-06-17T00:00:00.000000000', '2019-06-18T00:00:00.000000000',\n",
       "       '2019-06-19T00:00:00.000000000', '2019-06-20T00:00:00.000000000',\n",
       "       '2019-06-21T00:00:00.000000000', '2019-06-22T00:00:00.000000000',\n",
       "       '2019-06-23T00:00:00.000000000', '2019-06-24T00:00:00.000000000',\n",
       "       '2019-06-25T00:00:00.000000000', '2019-06-26T00:00:00.000000000',\n",
       "       '2019-06-27T00:00:00.000000000', '2019-06-28T00:00:00.000000000',\n",
       "       '2019-06-29T00:00:00.000000000', '2019-06-30T00:00:00.000000000',\n",
       "       '2019-07-01T00:00:00.000000000', '2019-07-02T00:00:00.000000000',\n",
       "       '2019-07-03T00:00:00.000000000', '2019-07-04T00:00:00.000000000',\n",
       "       '2019-07-05T00:00:00.000000000', '2019-07-06T00:00:00.000000000',\n",
       "       '2019-07-07T00:00:00.000000000'], dtype='datetime64[ns]')"
      ]
     },
     "execution_count": 8,
     "metadata": {},
     "output_type": "execute_result"
    }
   ],
   "source": [
    "stationDS.dtypes\n",
    "stationDS.date.unique()"
   ]
  },
  {
   "cell_type": "code",
   "execution_count": 9,
   "metadata": {},
   "outputs": [],
   "source": [
    "ds = stationDS.copy()"
   ]
  },
  {
   "cell_type": "code",
   "execution_count": 10,
   "metadata": {},
   "outputs": [
    {
     "name": "stderr",
     "output_type": "stream",
     "text": [
      "/home/faizi/programs/anaconda3/envs/dps/lib/python3.7/site-packages/pandas/plotting/_converter.py:129: FutureWarning: Using an implicitly registered datetime converter for a matplotlib plotting method. The converter was registered by pandas on import. Future versions of pandas will require you to explicitly register matplotlib converters.\n",
      "\n",
      "To register the converters:\n",
      "\t>>> from pandas.plotting import register_matplotlib_converters\n",
      "\t>>> register_matplotlib_converters()\n",
      "  warnings.warn(msg, FutureWarning)\n"
     ]
    },
    {
     "name": "stdout",
     "output_type": "stream",
     "text": [
      "[8, 10, 11, 12, 14, 15, 17, 61, 62, 75, 94]\n"
     ]
    },
    {
     "data": {
      "image/png": "[encoded data removed]",
      "text/plain": [
       "<Figure size 1080x360 with 4 Axes>"
      ]
     },
     "metadata": {
      "needs_background": "light"
     },
     "output_type": "display_data"
    }
   ],
   "source": [
    "#Plotting graphs\n",
    "\n",
    "# fig, ax = plt.subplots()\n",
    "# ax.set_title('Data count per day')\n",
    "# ax.set_ylabel('count')\n",
    "# ax.plot(count_per_day.index, count_per_day.line)\n",
    "# ax.margins(x=0, y=0)\n",
    "\n",
    "# plt.hist(ds.date)\n",
    "# plt.ylabel('Data count per day');\n",
    "\n",
    "\n",
    "# Set up the plotting layout\n",
    "fig, ((ax1, ax2), (ax21, ax22)) = plt.subplots(nrows=2, ncols=2, figsize = (15,5))\n",
    "fig.autofmt_xdate(rotation = 45)\n",
    "\n",
    "ax1.set_xlabel('Date'); ax1.set_ylabel('count'); ax1.set_title('Data count per day')\n",
    "# ax1.hist(ds.date)\n",
    "count_per_day = ds.groupby('date').count()\n",
    "ax1.bar(count_per_day.index, count_per_day.line, orientation = 'vertical', color = 'r', edgecolor = 'k', linewidth = 1.2);\n",
    "\n",
    "\n",
    "ax2.set_xlabel('Line'); ax2.set_ylabel('count'); ax2.set_title('Data count per line')\n",
    "# ax2.hist(ds.line);\n",
    "count_per_line = ds.groupby('line').count()\n",
    "ax2.bar(count_per_line.index, count_per_line.date, orientation = 'vertical', color = 'r', edgecolor = 'k', linewidth = 1.2);\n",
    "lines = ds.line.unique()\n",
    "print(sorted(lines))\n",
    "# plt.xticks(count_per_line.index, count_per_line['index'].apply(str), rotation='vertical')\n",
    "\n",
    "# fig, ax1 = plt.subplots(nrows=1, ncols=1, figsize = (15,5))\n",
    "# fig.autofmt_xdate(rotation = 45)\n",
    "\n",
    "ax21.set_xlabel('Time (sec)'); ax1.set_ylabel('count'); ax1.set_title('Delays distribution')\n",
    "ax21.hist(ds.delays, bins=100);\n",
    "# ax1.scatter(delays, delays);\n",
    "# count_per_line = ds.groupby('line').count()\n",
    "# ax2.bar(count_per_line.index, count_per_line.date, orientation = 'vertical', color = 'r', edgecolor = 'k', linewidth = 1.2);"
   ]
  },
  {
   "cell_type": "code",
   "execution_count": 11,
   "metadata": {},
   "outputs": [
    {
     "name": "stdout",
     "output_type": "stream",
     "text": [
      "(88066, 9)\n"
     ]
    },
    {
     "data": {
      "text/html": [
       "<div>\n",
       "<style scoped>\n",
       "    .dataframe tbody tr th:only-of-type {\n",
       "        vertical-align: middle;\n",
       "    }\n",
       "\n",
       "    .dataframe tbody tr th {\n",
       "        vertical-align: top;\n",
       "    }\n",
       "\n",
       "    .dataframe thead th {\n",
       "        text-align: right;\n",
       "    }\n",
       "</style>\n",
       "<table border=\"1\" class=\"dataframe\">\n",
       "  <thead>\n",
       "    <tr style=\"text-align: right;\">\n",
       "      <th></th>\n",
       "      <th>delays</th>\n",
       "      <th>direction</th>\n",
       "      <th>line</th>\n",
       "      <th>next_station_diva_nach</th>\n",
       "      <th>should_arrive_at</th>\n",
       "      <th>station_diva_id</th>\n",
       "      <th>day_of_week</th>\n",
       "      <th>day</th>\n",
       "      <th>month</th>\n",
       "    </tr>\n",
       "  </thead>\n",
       "  <tbody>\n",
       "    <tr>\n",
       "      <th>231946</th>\n",
       "      <td>32.0</td>\n",
       "      <td>1</td>\n",
       "      <td>12</td>\n",
       "      <td>3447</td>\n",
       "      <td>16800</td>\n",
       "      <td>2572</td>\n",
       "      <td>6</td>\n",
       "      <td>14</td>\n",
       "      <td>4</td>\n",
       "    </tr>\n",
       "    <tr>\n",
       "      <th>105772</th>\n",
       "      <td>136.0</td>\n",
       "      <td>2</td>\n",
       "      <td>14</td>\n",
       "      <td>3447</td>\n",
       "      <td>18054</td>\n",
       "      <td>2572</td>\n",
       "      <td>6</td>\n",
       "      <td>14</td>\n",
       "      <td>4</td>\n",
       "    </tr>\n",
       "    <tr>\n",
       "      <th>1318815</th>\n",
       "      <td>11.0</td>\n",
       "      <td>1</td>\n",
       "      <td>10</td>\n",
       "      <td>2151</td>\n",
       "      <td>18282</td>\n",
       "      <td>2572</td>\n",
       "      <td>6</td>\n",
       "      <td>14</td>\n",
       "      <td>4</td>\n",
       "    </tr>\n",
       "    <tr>\n",
       "      <th>783140</th>\n",
       "      <td>8.0</td>\n",
       "      <td>1</td>\n",
       "      <td>62</td>\n",
       "      <td>3154</td>\n",
       "      <td>18324</td>\n",
       "      <td>2572</td>\n",
       "      <td>6</td>\n",
       "      <td>14</td>\n",
       "      <td>4</td>\n",
       "    </tr>\n",
       "    <tr>\n",
       "      <th>345655</th>\n",
       "      <td>31.0</td>\n",
       "      <td>1</td>\n",
       "      <td>75</td>\n",
       "      <td>694</td>\n",
       "      <td>18384</td>\n",
       "      <td>2572</td>\n",
       "      <td>6</td>\n",
       "      <td>14</td>\n",
       "      <td>4</td>\n",
       "    </tr>\n",
       "  </tbody>\n",
       "</table>\n",
       "</div>"
      ],
      "text/plain": [
       "         delays direction line next_station_diva_nach should_arrive_at  \\\n",
       "231946     32.0         1   12                   3447            16800   \n",
       "105772    136.0         2   14                   3447            18054   \n",
       "1318815    11.0         1   10                   2151            18282   \n",
       "783140      8.0         1   62                   3154            18324   \n",
       "345655     31.0         1   75                    694            18384   \n",
       "\n",
       "        station_diva_id  day_of_week  day  month  \n",
       "231946             2572            6   14      4  \n",
       "105772             2572            6   14      4  \n",
       "1318815            2572            6   14      4  \n",
       "783140             2572            6   14      4  \n",
       "345655             2572            6   14      4  "
      ]
     },
     "execution_count": 11,
     "metadata": {},
     "output_type": "execute_result"
    }
   ],
   "source": [
    "# Add column to represent day of week\n",
    "# ds['date'] = pd.to_datetime(ds['date'])\n",
    "ds['day_of_week'] = pd.to_datetime(ds['date']).dt.weekday\n",
    "\n",
    "# split date into day, month, year\n",
    "ds['day'] = pd.to_datetime(ds['date']).dt.day\n",
    "ds['month'] = pd.to_datetime(ds['date']).dt.month\n",
    "# ds['year'] = pd.to_datetime(ds['date']).dt.year\n",
    "\n",
    "# drop date column because we splitted it\n",
    "ds = ds.drop('date', axis = 1)\n",
    "\n",
    "# drop 'actually_arrived_at' column because we have delays now!\n",
    "ds = ds.drop('actually_arrived_at', axis = 1)\n",
    "\n",
    "print(ds.shape)\n",
    "ds.head()\n",
    "# ds.day_of_week.unique()"
   ]
  },
  {
   "cell_type": "code",
   "execution_count": 12,
   "metadata": {},
   "outputs": [],
   "source": [
    "# Convert to numpy array\n",
    "labels = np.array(ds.delays)\n",
    "\n",
    "tempDS = ds.drop('delays', axis = 1)\n",
    "\n",
    "# tempDS = tempDS.drop('next_station_diva_nach', axis = 1)\n",
    "# tempDS = tempDS.drop('month', axis = 1)\n",
    "# tempDS = tempDS.drop('direction', axis = 1)\n",
    "\n",
    "features = np.array(tempDS)\n",
    "\n",
    "\n",
    "# Saving feature names for later use\n",
    "feature_list = list(tempDS.columns)"
   ]
  },
  {
   "cell_type": "markdown",
   "metadata": {},
   "source": [
    "As there are some 0 in labels so when calculating accuracy, dividing by zero results in infinity, so adding 1 to all labels (i.e. delays). Now, 1 means no delay!"
   ]
  },
  {
   "cell_type": "code",
   "execution_count": 13,
   "metadata": {},
   "outputs": [],
   "source": [
    "# labels = labels + 1"
   ]
  },
  {
   "cell_type": "code",
   "execution_count": 14,
   "metadata": {},
   "outputs": [
    {
     "name": "stdout",
     "output_type": "stream",
     "text": [
      "[[1 12 3447 16800 2572 6 14 4]\n",
      " [2 14 3447 18054 2572 6 14 4]\n",
      " [1 10 2151 18282 2572 6 14 4]\n",
      " [1 62 3154 18324 2572 6 14 4]\n",
      " [1 75 694 18384 2572 6 14 4]]\n",
      "[ 32. 136.  11.   8.  31.]\n"
     ]
    }
   ],
   "source": [
    "print(features[:5])\n",
    "print(labels[:5])"
   ]
  },
  {
   "cell_type": "code",
   "execution_count": 15,
   "metadata": {},
   "outputs": [],
   "source": [
    "# delete variables\n",
    "del ds\n",
    "del stationDS"
   ]
  },
  {
   "cell_type": "code",
   "execution_count": 16,
   "metadata": {},
   "outputs": [
    {
     "name": "stdout",
     "output_type": "stream",
     "text": [
      "Training Features Shape: (70452, 8)\n",
      "Training Labels Shape: (70452,)\n",
      "Testing Features Shape: (17614, 8)\n",
      "Testing Labels Shape: (17614,)\n"
     ]
    }
   ],
   "source": [
    "from sklearn.model_selection import train_test_split\n",
    "\n",
    "# train_features, test_features, train_labels, test_labels = train_test_split(\n",
    "#     features, labels, test_size = 0.20, random_state = 42\n",
    "# );\n",
    "\n",
    "train_features, test_features, train_labels, test_labels = train_test_split(\n",
    "    features, labels, test_size = 0.20, shuffle=False\n",
    ");\n",
    "\n",
    "print('Training Features Shape:', train_features.shape)\n",
    "print('Training Labels Shape:', train_labels.shape)\n",
    "print('Testing Features Shape:', test_features.shape)\n",
    "print('Testing Labels Shape:', test_labels.shape)"
   ]
  },
  {
   "cell_type": "code",
   "execution_count": null,
   "metadata": {},
   "outputs": [],
   "source": [
    "from sklearn.ensemble import RandomForestRegressor\n",
    "\n",
    "# Instantiate model with 1000 decision trees\n",
    "rf = RandomForestRegressor(n_estimators = 1000, random_state = 42)\n",
    "\n",
    "# Train the model on training data\n",
    "rf.fit(train_features, train_labels);"
   ]
  },
  {
   "cell_type": "code",
   "execution_count": null,
   "metadata": {},
   "outputs": [],
   "source": [
    "print('mean of delay: ', labels.mean())"
   ]
  },
  {
   "cell_type": "code",
   "execution_count": null,
   "metadata": {},
   "outputs": [],
   "source": [
    "# Use the forest's predict method on the training data\n",
    "train_predictions = rf.predict(train_features)"
   ]
  },
  {
   "cell_type": "code",
   "execution_count": null,
   "metadata": {},
   "outputs": [],
   "source": [
    "# training set errors\n",
    "# Calculate the absolute errors\n",
    "train_errors = abs(train_predictions - train_labels)\n",
    "\n",
    "print('[Train] Average error:', round(np.mean(train_errors), 2))\n",
    "\n",
    "print('[Train] SSE: ', round(np.sqrt(np.mean(np.square(train_errors))), 2))"
   ]
  },
  {
   "cell_type": "code",
   "execution_count": null,
   "metadata": {},
   "outputs": [],
   "source": [
    "print(train_labels[:20])\n",
    "print(train_predictions[:20])"
   ]
  },
  {
   "cell_type": "code",
   "execution_count": null,
   "metadata": {},
   "outputs": [],
   "source": [
    "# Use the forest's predict method on the test data\n",
    "test_predictions = rf.predict(test_features)\n",
    "\n",
    "print(test_labels[:20])\n",
    "print(test_predictions[:20])\n",
    "\n",
    "# Test set errors\n",
    "# Calculate the absolute errors\n",
    "test_errors = abs(test_predictions - test_labels)\n",
    "\n",
    "print('[Test] Average error:', round(np.mean(test_errors), 2))\n",
    " \n",
    "print('[Test] SSE: ', round(np.sqrt(np.mean(np.square(test_errors))), 2))\n",
    "# Print out the mean absolute error (mae)\n",
    "# print('Mean Absolute Error:', round(np.mean(errors), 2), 'degrees.')\n",
    "\n",
    "# Calculate mean absolute percentage error (MAPE)\n",
    "# mape = (errors / test_labels)\n",
    "\n",
    "# # Calculate and display accuracy\n",
    "# accuracy = 100 - np.mean(mape)\n",
    "\n",
    "# print('Accuracy:', round(accuracy, 2), '%.')"
   ]
  },
  {
   "cell_type": "code",
   "execution_count": null,
   "metadata": {},
   "outputs": [],
   "source": [
    "# # Import tools needed for visualization\n",
    "# from sklearn.tree import export_graphviz\n",
    "# import pydot\n",
    "\n",
    "# # Pull out one tree from the forest\n",
    "# tree = rf.estimators_[5]\n",
    "\n",
    "# # Export the image to a dot file\n",
    "# export_graphviz(tree, out_file = 'tree.dot', feature_names = feature_list, rounded = True, precision = 1)\n",
    "\n",
    "# # Use dot file to create a graph\n",
    "# (graph, ) = pydot.graph_from_dot_file('tree.dot')\n",
    "\n",
    "# # Write graph to a png file\n",
    "# graph.write_png('data/generated/tree.png')"
   ]
  },
  {
   "cell_type": "code",
   "execution_count": null,
   "metadata": {},
   "outputs": [],
   "source": [
    "# Get numerical feature importances\n",
    "importances = list(rf.feature_importances_)\n",
    "\n",
    "# List of tuples with variable and importance\n",
    "feature_importances = [(feature, round(importance, 2)) for feature, importance in zip(feature_list, importances)]\n",
    "\n",
    "# Sort the feature importances by most important first\n",
    "feature_importances = sorted(feature_importances, key = lambda x: x[1], reverse = True)\n",
    "\n",
    "# Set the style\n",
    "plt.style.use('fivethirtyeight')\n",
    "\n",
    "# list of x locations for plotting\n",
    "x_values = list(range(len(importances)))\n",
    "\n",
    "# Make a bar chart\n",
    "plt.bar(x_values, importances, orientation = 'vertical')\n",
    "\n",
    "# Tick labels for x axis\n",
    "plt.xticks(x_values, feature_list, rotation='vertical')\n",
    "plt.ylabel('Importance'); plt.xlabel('Variable'); plt.title('Variable Importances');"
   ]
  },
  {
   "cell_type": "code",
   "execution_count": null,
   "metadata": {},
   "outputs": [],
   "source": []
  },
  {
   "cell_type": "code",
   "execution_count": null,
   "metadata": {},
   "outputs": [],
   "source": []
  }
 ],
 "metadata": {
  "kernelspec": {
   "display_name": "Python 3",
   "language": "python",
   "name": "python3"
  },
  "language_info": {
   "codemirror_mode": {
    "name": "ipython",
    "version": 3
   },
   "file_extension": ".py",
   "mimetype": "text/x-python",
   "name": "python",
   "nbconvert_exporter": "python",
   "pygments_lexer": "ipython3",
   "version": "3.7.3"
  }
 },
 "nbformat": 4,
 "nbformat_minor": 2
}
