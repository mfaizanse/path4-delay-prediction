{
 "cells": [
  {
   "cell_type": "code",
   "execution_count": 1,
   "metadata": {},
   "outputs": [],
   "source": [
    "import csv\n",
    "import numpy as np\n",
    "import pandas as pd\n",
    "import matplotlib.pyplot as plt"
   ]
  },
  {
   "cell_type": "code",
   "execution_count": 2,
   "metadata": {},
   "outputs": [],
   "source": [
    "col_names = ['line', 'direction', 'station_diva_id', 'date', 'should_arrive_at', \n",
    "              'actually_arrived_at', 'next_station_diva_nach']\n",
    "stationDS = pd.DataFrame(columns=col_names)\n",
    "targetStationId = 2572"
   ]
  },
  {
   "cell_type": "code",
   "execution_count": 3,
   "metadata": {},
   "outputs": [],
   "source": [
    "csv_names = ['fahrzeiten_soll_ist_20190623_20190629.csv',\n",
    "             'fahrzeiten_soll_ist_20190616_20190622.csv', \n",
    "             'fahrzeiten_soll_ist_20190609_20190615.csv',\n",
    "             'fahrzeiten_soll_ist_20190602_20190608.csv',\n",
    "             'fahrzeiten_soll_ist_20190505_20190511.csv',\n",
    "            'fahrzeiten_soll_ist_20190630_20190706.csv']\n",
    "\n",
    "for name in csv_names:\n",
    "    dataSet = pd.read_csv('data/' + name)\n",
    "    ds = dataSet.loc[:, ['linie', 'richtung', 'halt_diva_von', 'datum_von', 'soll_an_von', 'ist_an_von', 'halt_diva_nach']]\n",
    "    ds = ds.loc[ds['halt_diva_von'] == targetStationId]\n",
    "    ds.columns = col_names\n",
    "    stationDS = stationDS.append(ds)   "
   ]
  },
  {
   "cell_type": "code",
   "execution_count": 4,
   "metadata": {},
   "outputs": [
    {
     "name": "stdout",
     "output_type": "stream",
     "text": [
      "stationDS data shape:  (63999, 7)\n"
     ]
    },
    {
     "data": {
      "text/html": [
       "<div>\n",
       "<style scoped>\n",
       "    .dataframe tbody tr th:only-of-type {\n",
       "        vertical-align: middle;\n",
       "    }\n",
       "\n",
       "    .dataframe tbody tr th {\n",
       "        vertical-align: top;\n",
       "    }\n",
       "\n",
       "    .dataframe thead th {\n",
       "        text-align: right;\n",
       "    }\n",
       "</style>\n",
       "<table border=\"1\" class=\"dataframe\">\n",
       "  <thead>\n",
       "    <tr style=\"text-align: right;\">\n",
       "      <th></th>\n",
       "      <th>line</th>\n",
       "      <th>direction</th>\n",
       "      <th>station_diva_id</th>\n",
       "      <th>date</th>\n",
       "      <th>should_arrive_at</th>\n",
       "      <th>actually_arrived_at</th>\n",
       "      <th>next_station_diva_nach</th>\n",
       "    </tr>\n",
       "  </thead>\n",
       "  <tbody>\n",
       "    <tr>\n",
       "      <th>58978</th>\n",
       "      <td>75</td>\n",
       "      <td>2</td>\n",
       "      <td>2572</td>\n",
       "      <td>01.07.19</td>\n",
       "      <td>138</td>\n",
       "      <td>186</td>\n",
       "      <td>3447</td>\n",
       "    </tr>\n",
       "    <tr>\n",
       "      <th>53987</th>\n",
       "      <td>94</td>\n",
       "      <td>2</td>\n",
       "      <td>2572</td>\n",
       "      <td>01.07.19</td>\n",
       "      <td>192</td>\n",
       "      <td>189</td>\n",
       "      <td>3034</td>\n",
       "    </tr>\n",
       "    <tr>\n",
       "      <th>53978</th>\n",
       "      <td>10</td>\n",
       "      <td>2</td>\n",
       "      <td>2572</td>\n",
       "      <td>01.07.19</td>\n",
       "      <td>252</td>\n",
       "      <td>306</td>\n",
       "      <td>3034</td>\n",
       "    </tr>\n",
       "    <tr>\n",
       "      <th>53986</th>\n",
       "      <td>61</td>\n",
       "      <td>1</td>\n",
       "      <td>2572</td>\n",
       "      <td>01.07.19</td>\n",
       "      <td>270</td>\n",
       "      <td>388</td>\n",
       "      <td>3154</td>\n",
       "    </tr>\n",
       "    <tr>\n",
       "      <th>58980</th>\n",
       "      <td>75</td>\n",
       "      <td>1</td>\n",
       "      <td>2572</td>\n",
       "      <td>01.07.19</td>\n",
       "      <td>504</td>\n",
       "      <td>480</td>\n",
       "      <td>694</td>\n",
       "    </tr>\n",
       "    <tr>\n",
       "      <th>58969</th>\n",
       "      <td>12</td>\n",
       "      <td>1</td>\n",
       "      <td>2572</td>\n",
       "      <td>01.07.19</td>\n",
       "      <td>540</td>\n",
       "      <td>460</td>\n",
       "      <td>6033</td>\n",
       "    </tr>\n",
       "    <tr>\n",
       "      <th>54004</th>\n",
       "      <td>11</td>\n",
       "      <td>2</td>\n",
       "      <td>2572</td>\n",
       "      <td>01.07.19</td>\n",
       "      <td>636</td>\n",
       "      <td>628</td>\n",
       "      <td>3154</td>\n",
       "    </tr>\n",
       "    <tr>\n",
       "      <th>53983</th>\n",
       "      <td>62</td>\n",
       "      <td>2</td>\n",
       "      <td>2572</td>\n",
       "      <td>01.07.19</td>\n",
       "      <td>672</td>\n",
       "      <td>659</td>\n",
       "      <td>3034</td>\n",
       "    </tr>\n",
       "    <tr>\n",
       "      <th>67069</th>\n",
       "      <td>14</td>\n",
       "      <td>1</td>\n",
       "      <td>2572</td>\n",
       "      <td>01.07.19</td>\n",
       "      <td>732</td>\n",
       "      <td>744</td>\n",
       "      <td>2151</td>\n",
       "    </tr>\n",
       "    <tr>\n",
       "      <th>67073</th>\n",
       "      <td>14</td>\n",
       "      <td>2</td>\n",
       "      <td>2572</td>\n",
       "      <td>01.07.19</td>\n",
       "      <td>762</td>\n",
       "      <td>821</td>\n",
       "      <td>3447</td>\n",
       "    </tr>\n",
       "  </tbody>\n",
       "</table>\n",
       "</div>"
      ],
      "text/plain": [
       "      line direction station_diva_id      date should_arrive_at  \\\n",
       "58978   75         2            2572  01.07.19              138   \n",
       "53987   94         2            2572  01.07.19              192   \n",
       "53978   10         2            2572  01.07.19              252   \n",
       "53986   61         1            2572  01.07.19              270   \n",
       "58980   75         1            2572  01.07.19              504   \n",
       "58969   12         1            2572  01.07.19              540   \n",
       "54004   11         2            2572  01.07.19              636   \n",
       "53983   62         2            2572  01.07.19              672   \n",
       "67069   14         1            2572  01.07.19              732   \n",
       "67073   14         2            2572  01.07.19              762   \n",
       "\n",
       "      actually_arrived_at next_station_diva_nach  \n",
       "58978                 186                   3447  \n",
       "53987                 189                   3034  \n",
       "53978                 306                   3034  \n",
       "53986                 388                   3154  \n",
       "58980                 480                    694  \n",
       "58969                 460                   6033  \n",
       "54004                 628                   3154  \n",
       "53983                 659                   3034  \n",
       "67069                 744                   2151  \n",
       "67073                 821                   3447  "
      ]
     },
     "execution_count": 4,
     "metadata": {},
     "output_type": "execute_result"
    }
   ],
   "source": [
    "print('stationDS data shape: ', stationDS.shape)\n",
    "stationDS = stationDS.sort_values(by=['date', 'should_arrive_at'], ascending=True)\n",
    "stationDS.head(10)"
   ]
  },
  {
   "cell_type": "code",
   "execution_count": 5,
   "metadata": {},
   "outputs": [],
   "source": [
    "# fileToSave = 'data/generated/station_' + str(targetStationId) + '.csv'\n",
    "# targetStationData.to_csv(fileToSave, encoding='utf-8', index=False)"
   ]
  },
  {
   "cell_type": "markdown",
   "metadata": {},
   "source": [
    "Data types of the columns"
   ]
  },
  {
   "cell_type": "code",
   "execution_count": 6,
   "metadata": {},
   "outputs": [
    {
     "data": {
      "text/plain": [
       "line                      object\n",
       "direction                 object\n",
       "station_diva_id           object\n",
       "date                      object\n",
       "should_arrive_at          object\n",
       "actually_arrived_at       object\n",
       "next_station_diva_nach    object\n",
       "dtype: object"
      ]
     },
     "execution_count": 6,
     "metadata": {},
     "output_type": "execute_result"
    }
   ],
   "source": [
    "stationDS.dtypes"
   ]
  },
  {
   "cell_type": "code",
   "execution_count": 7,
   "metadata": {},
   "outputs": [],
   "source": [
    "ds = stationDS\n",
    "\n",
    "# calculate delay time by subtracting y-x\n",
    "# delays in sec --> y (target)\n",
    "ds['delays'] = ds['actually_arrived_at'] - ds['should_arrive_at']\n",
    "\n",
    "# filtering dataset for only delays 0 <= delay < 600\n",
    "ds = ds.loc[(ds['delays'] >= 0) & (ds['delays'] < 600)]"
   ]
  },
  {
   "cell_type": "code",
   "execution_count": 8,
   "metadata": {},
   "outputs": [
    {
     "name": "stdout",
     "output_type": "stream",
     "text": [
      "[8, 10, 11, 12, 14, 15, 17, 61, 62, 75, 94]\n"
     ]
    },
    {
     "data": {
      "image/png": "[encoded data removed]",
      "text/plain": [
       "<Figure size 1080x360 with 4 Axes>"
      ]
     },
     "metadata": {
      "needs_background": "light"
     },
     "output_type": "display_data"
    }
   ],
   "source": [
    "#Plotting graphs\n",
    "\n",
    "# fig, ax = plt.subplots()\n",
    "# ax.set_title('Data count per day')\n",
    "# ax.set_ylabel('count')\n",
    "# ax.plot(count_per_day.index, count_per_day.line)\n",
    "# ax.margins(x=0, y=0)\n",
    "\n",
    "# plt.hist(ds.date)\n",
    "# plt.ylabel('Data count per day');\n",
    "\n",
    "\n",
    "# Set up the plotting layout\n",
    "fig, ((ax1, ax2), (ax21, ax22)) = plt.subplots(nrows=2, ncols=2, figsize = (15,5))\n",
    "fig.autofmt_xdate(rotation = 45)\n",
    "\n",
    "ax1.set_xlabel('Date'); ax1.set_ylabel('count'); ax1.set_title('Data count per day')\n",
    "# ax1.hist(ds.date)\n",
    "count_per_day = ds.groupby('date').count()\n",
    "ax1.bar(count_per_day.index, count_per_day.line, orientation = 'vertical', color = 'r', edgecolor = 'k', linewidth = 1.2);\n",
    "\n",
    "\n",
    "ax2.set_xlabel('Line'); ax2.set_ylabel('count'); ax2.set_title('Data count per line')\n",
    "# ax2.hist(ds.line);\n",
    "count_per_line = ds.groupby('line').count()\n",
    "ax2.bar(count_per_line.index, count_per_line.date, orientation = 'vertical', color = 'r', edgecolor = 'k', linewidth = 1.2);\n",
    "lines = ds.line.unique()\n",
    "print(sorted(lines))\n",
    "# plt.xticks(count_per_line.index, count_per_line['index'].apply(str), rotation='vertical')\n",
    "\n",
    "# fig, ax1 = plt.subplots(nrows=1, ncols=1, figsize = (15,5))\n",
    "# fig.autofmt_xdate(rotation = 45)\n",
    "\n",
    "ax21.set_xlabel('Time (sec)'); ax1.set_ylabel('count'); ax1.set_title('Delays distribution')\n",
    "ax21.hist(ds.delays, bins=100);\n",
    "# ax1.scatter(delays, delays);\n",
    "# count_per_line = ds.groupby('line').count()\n",
    "# ax2.bar(count_per_line.index, count_per_line.date, orientation = 'vertical', color = 'r', edgecolor = 'k', linewidth = 1.2);"
   ]
  },
  {
   "cell_type": "code",
   "execution_count": 9,
   "metadata": {},
   "outputs": [
    {
     "name": "stdout",
     "output_type": "stream",
     "text": [
      "(45748, 9)\n"
     ]
    },
    {
     "data": {
      "text/html": [
       "<div>\n",
       "<style scoped>\n",
       "    .dataframe tbody tr th:only-of-type {\n",
       "        vertical-align: middle;\n",
       "    }\n",
       "\n",
       "    .dataframe tbody tr th {\n",
       "        vertical-align: top;\n",
       "    }\n",
       "\n",
       "    .dataframe thead th {\n",
       "        text-align: right;\n",
       "    }\n",
       "</style>\n",
       "<table border=\"1\" class=\"dataframe\">\n",
       "  <thead>\n",
       "    <tr style=\"text-align: right;\">\n",
       "      <th></th>\n",
       "      <th>line</th>\n",
       "      <th>direction</th>\n",
       "      <th>station_diva_id</th>\n",
       "      <th>should_arrive_at</th>\n",
       "      <th>next_station_diva_nach</th>\n",
       "      <th>delays</th>\n",
       "      <th>day_of_week</th>\n",
       "      <th>day</th>\n",
       "      <th>month</th>\n",
       "    </tr>\n",
       "  </thead>\n",
       "  <tbody>\n",
       "    <tr>\n",
       "      <th>58978</th>\n",
       "      <td>75</td>\n",
       "      <td>2</td>\n",
       "      <td>2572</td>\n",
       "      <td>138</td>\n",
       "      <td>3447</td>\n",
       "      <td>48</td>\n",
       "      <td>0</td>\n",
       "      <td>7</td>\n",
       "      <td>1</td>\n",
       "    </tr>\n",
       "    <tr>\n",
       "      <th>53978</th>\n",
       "      <td>10</td>\n",
       "      <td>2</td>\n",
       "      <td>2572</td>\n",
       "      <td>252</td>\n",
       "      <td>3034</td>\n",
       "      <td>54</td>\n",
       "      <td>0</td>\n",
       "      <td>7</td>\n",
       "      <td>1</td>\n",
       "    </tr>\n",
       "    <tr>\n",
       "      <th>53986</th>\n",
       "      <td>61</td>\n",
       "      <td>1</td>\n",
       "      <td>2572</td>\n",
       "      <td>270</td>\n",
       "      <td>3154</td>\n",
       "      <td>118</td>\n",
       "      <td>0</td>\n",
       "      <td>7</td>\n",
       "      <td>1</td>\n",
       "    </tr>\n",
       "    <tr>\n",
       "      <th>67069</th>\n",
       "      <td>14</td>\n",
       "      <td>1</td>\n",
       "      <td>2572</td>\n",
       "      <td>732</td>\n",
       "      <td>2151</td>\n",
       "      <td>12</td>\n",
       "      <td>0</td>\n",
       "      <td>7</td>\n",
       "      <td>1</td>\n",
       "    </tr>\n",
       "    <tr>\n",
       "      <th>67073</th>\n",
       "      <td>14</td>\n",
       "      <td>2</td>\n",
       "      <td>2572</td>\n",
       "      <td>762</td>\n",
       "      <td>3447</td>\n",
       "      <td>59</td>\n",
       "      <td>0</td>\n",
       "      <td>7</td>\n",
       "      <td>1</td>\n",
       "    </tr>\n",
       "  </tbody>\n",
       "</table>\n",
       "</div>"
      ],
      "text/plain": [
       "      line direction station_diva_id should_arrive_at next_station_diva_nach  \\\n",
       "58978   75         2            2572              138                   3447   \n",
       "53978   10         2            2572              252                   3034   \n",
       "53986   61         1            2572              270                   3154   \n",
       "67069   14         1            2572              732                   2151   \n",
       "67073   14         2            2572              762                   3447   \n",
       "\n",
       "      delays  day_of_week  day  month  \n",
       "58978     48            0    7      1  \n",
       "53978     54            0    7      1  \n",
       "53986    118            0    7      1  \n",
       "67069     12            0    7      1  \n",
       "67073     59            0    7      1  "
      ]
     },
     "execution_count": 9,
     "metadata": {},
     "output_type": "execute_result"
    }
   ],
   "source": [
    "features = ds.copy();\n",
    "# Add column to represent day of week\n",
    "# features['date'] = pd.to_datetime(features['date'])\n",
    "features['day_of_week'] = pd.to_datetime(features['date']).dt.weekday\n",
    "\n",
    "# split date into day, month, year\n",
    "features['day'] = pd.to_datetime(features['date']).dt.day\n",
    "features['month'] = pd.to_datetime(features['date']).dt.month\n",
    "# features['year'] = pd.to_datetime(features['date']).dt.year\n",
    "\n",
    "# drop date column because we splitted it\n",
    "features = features.drop('date', axis = 1)\n",
    "\n",
    "# drop 'actually_arrived_at' column because we have delays now!\n",
    "features = features.drop('actually_arrived_at', axis = 1)\n",
    "\n",
    "# Saving feature names for later use\n",
    "feature_list = list(features.columns)\n",
    "\n",
    "print(features.shape)\n",
    "features.head()\n",
    "# ds.day_of_week.unique()"
   ]
  },
  {
   "cell_type": "code",
   "execution_count": 10,
   "metadata": {},
   "outputs": [],
   "source": [
    "# Convert to numpy array\n",
    "labels = np.array(features.delays)\n",
    "features = np.array(features.drop('delays', axis = 1))"
   ]
  },
  {
   "cell_type": "code",
   "execution_count": 11,
   "metadata": {},
   "outputs": [],
   "source": [
    "labels = labels + 1"
   ]
  },
  {
   "cell_type": "code",
   "execution_count": 12,
   "metadata": {},
   "outputs": [
    {
     "name": "stdout",
     "output_type": "stream",
     "text": [
      "[[75 2 2572 138 3447 0 7 1]\n",
      " [10 2 2572 252 3034 0 7 1]\n",
      " [61 1 2572 270 3154 0 7 1]\n",
      " [14 1 2572 732 2151 0 7 1]\n",
      " [14 2 2572 762 3447 0 7 1]]\n",
      "[49 55 119 13 60]\n"
     ]
    }
   ],
   "source": [
    "print(features[:5])\n",
    "print(labels[:5])"
   ]
  },
  {
   "cell_type": "code",
   "execution_count": 13,
   "metadata": {},
   "outputs": [],
   "source": [
    "# delete variables\n",
    "del ds\n",
    "del stationDS"
   ]
  },
  {
   "cell_type": "code",
   "execution_count": 14,
   "metadata": {},
   "outputs": [
    {
     "name": "stdout",
     "output_type": "stream",
     "text": [
      "Training Features Shape: (36598, 8)\n",
      "Training Labels Shape: (36598,)\n",
      "Testing Features Shape: (9150, 8)\n",
      "Testing Labels Shape: (9150,)\n"
     ]
    }
   ],
   "source": [
    "from sklearn.model_selection import train_test_split\n",
    "\n",
    "# train_features, test_features, train_labels, test_labels = train_test_split(\n",
    "#     features, labels, test_size = 0.20, random_state = 42\n",
    "# );\n",
    "\n",
    "train_features, test_features, train_labels, test_labels = train_test_split(\n",
    "    features, labels, test_size = 0.20, shuffle=False\n",
    ");\n",
    "\n",
    "print('Training Features Shape:', train_features.shape)\n",
    "print('Training Labels Shape:', train_labels.shape)\n",
    "print('Testing Features Shape:', test_features.shape)\n",
    "print('Testing Labels Shape:', test_labels.shape)"
   ]
  },
  {
   "cell_type": "code",
   "execution_count": 15,
   "metadata": {},
   "outputs": [],
   "source": [
    "from sklearn.ensemble import RandomForestRegressor\n",
    "\n",
    "# Instantiate model with 1000 decision trees\n",
    "rf = RandomForestRegressor(n_estimators = 1000, random_state = 42)\n",
    "\n",
    "# Train the model on training data\n",
    "rf.fit(train_features, train_labels);"
   ]
  },
  {
   "cell_type": "code",
   "execution_count": 16,
   "metadata": {},
   "outputs": [],
   "source": [
    "# Use the forest's predict method on the test data\n",
    "predictions = rf.predict(test_features)"
   ]
  },
  {
   "cell_type": "code",
   "execution_count": 17,
   "metadata": {},
   "outputs": [
    {
     "name": "stdout",
     "output_type": "stream",
     "text": [
      "[11 224 24 47 156 42 120 136 62 64 22 7 30 4 172 357 345 118 33 11]\n",
      "[ 49.398 127.51   52.527  23.815 224.606 171.094  74.209  55.023  45.08\n",
      "  66.341 120.452  23.079 251.403  78.198  72.428  74.209 116.567 119.419\n",
      "  97.178  22.807]\n"
     ]
    }
   ],
   "source": [
    "print(test_labels[:20])\n",
    "print(predictions[:20])"
   ]
  },
  {
   "cell_type": "code",
   "execution_count": 18,
   "metadata": {},
   "outputs": [
    {
     "name": "stdout",
     "output_type": "stream",
     "text": [
      "Average error: 60.05\n",
      "l2 Error: 90.16\n",
      "Accuracy: 97.15 %.\n"
     ]
    }
   ],
   "source": [
    "\n",
    "\n",
    "# Calculate the absolute errors\n",
    "errors = abs(predictions - test_labels)\n",
    "\n",
    "\n",
    "print('Average error:', round(np.mean(errors), 2))\n",
    "\n",
    "l2_norm =  np.square(errors)\n",
    "print('l2 Error:', round(np.sqrt(np.mean(l2_norm)), 2))\n",
    "# Print out the mean absolute error (mae)\n",
    "# print('Mean Absolute Error:', round(np.mean(errors), 2), 'degrees.')\n",
    "\n",
    "# Calculate mean absolute percentage error (MAPE)\n",
    "mape = (errors / test_labels)\n",
    "\n",
    "# Calculate and display accuracy\n",
    "accuracy = 100 - np.mean(mape)\n",
    "print('Accuracy:', round(accuracy, 2), '%.')"
   ]
  },
  {
   "cell_type": "code",
   "execution_count": null,
   "metadata": {},
   "outputs": [],
   "source": []
  }
 ],
 "metadata": {
  "kernelspec": {
   "display_name": "Python 3",
   "language": "python",
   "name": "python3"
  },
  "language_info": {
   "codemirror_mode": {
    "name": "ipython",
    "version": 3
   },
   "file_extension": ".py",
   "mimetype": "text/x-python",
   "name": "python",
   "nbconvert_exporter": "python",
   "pygments_lexer": "ipython3",
   "version": "3.7.3"
  }
 },
 "nbformat": 4,
 "nbformat_minor": 2
}
