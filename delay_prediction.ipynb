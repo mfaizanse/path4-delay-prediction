{
 "cells": [
  {
   "cell_type": "code",
   "execution_count": 1,
   "metadata": {},
   "outputs": [],
   "source": [
    "import csv\n",
    "import numpy as np\n",
    "import pandas as pd\n",
    "import matplotlib.pyplot as plt"
   ]
  },
  {
   "cell_type": "code",
   "execution_count": 2,
   "metadata": {},
   "outputs": [],
   "source": [
    "col_names = ['line', 'direction', 'station_diva_id', 'date', 'should_arrive_at', \n",
    "              'actually_arrived_at', 'next_station_diva_nach']\n",
    "stationDS = pd.DataFrame(columns=col_names)\n",
    "targetStationId = 2572"
   ]
  },
  {
   "cell_type": "code",
   "execution_count": 3,
   "metadata": {},
   "outputs": [],
   "source": [
    "csv_names = ['fahrzeiten_soll_ist_20190623_20190629.csv',\n",
    "             'fahrzeiten_soll_ist_20190616_20190622.csv', \n",
    "             'fahrzeiten_soll_ist_20190609_20190615.csv']\n",
    "\n",
    "for name in csv_names:\n",
    "    dataSet = pd.read_csv('data/' + name)\n",
    "    ds = dataSet.loc[:, ['linie', 'richtung', 'halt_diva_von', 'datum_von', 'soll_an_von', 'ist_an_von', 'halt_diva_nach']]\n",
    "    ds = ds.loc[ds['halt_diva_von'] == targetStationId]\n",
    "    ds.columns = col_names\n",
    "    stationDS = stationDS.append(ds)   "
   ]
  },
  {
   "cell_type": "code",
   "execution_count": 4,
   "metadata": {},
   "outputs": [
    {
     "name": "stdout",
     "output_type": "stream",
     "text": [
      "stationDS data shape:  (31337, 7)\n"
     ]
    },
    {
     "data": {
      "text/html": [
       "<div>\n",
       "<style scoped>\n",
       "    .dataframe tbody tr th:only-of-type {\n",
       "        vertical-align: middle;\n",
       "    }\n",
       "\n",
       "    .dataframe tbody tr th {\n",
       "        vertical-align: top;\n",
       "    }\n",
       "\n",
       "    .dataframe thead th {\n",
       "        text-align: right;\n",
       "    }\n",
       "</style>\n",
       "<table border=\"1\" class=\"dataframe\">\n",
       "  <thead>\n",
       "    <tr style=\"text-align: right;\">\n",
       "      <th></th>\n",
       "      <th>line</th>\n",
       "      <th>direction</th>\n",
       "      <th>station_diva_id</th>\n",
       "      <th>date</th>\n",
       "      <th>should_arrive_at</th>\n",
       "      <th>actually_arrived_at</th>\n",
       "      <th>next_station_diva_nach</th>\n",
       "    </tr>\n",
       "  </thead>\n",
       "  <tbody>\n",
       "    <tr>\n",
       "      <th>60137</th>\n",
       "      <td>62</td>\n",
       "      <td>2</td>\n",
       "      <td>2572</td>\n",
       "      <td>09.06.19</td>\n",
       "      <td>70278</td>\n",
       "      <td>70237</td>\n",
       "      <td>3034</td>\n",
       "    </tr>\n",
       "    <tr>\n",
       "      <th>60128</th>\n",
       "      <td>62</td>\n",
       "      <td>2</td>\n",
       "      <td>2572</td>\n",
       "      <td>09.06.19</td>\n",
       "      <td>20472</td>\n",
       "      <td>20482</td>\n",
       "      <td>3034</td>\n",
       "    </tr>\n",
       "    <tr>\n",
       "      <th>60127</th>\n",
       "      <td>62</td>\n",
       "      <td>2</td>\n",
       "      <td>2572</td>\n",
       "      <td>09.06.19</td>\n",
       "      <td>77472</td>\n",
       "      <td>77506</td>\n",
       "      <td>3034</td>\n",
       "    </tr>\n",
       "    <tr>\n",
       "      <th>60126</th>\n",
       "      <td>62</td>\n",
       "      <td>2</td>\n",
       "      <td>2572</td>\n",
       "      <td>09.06.19</td>\n",
       "      <td>40278</td>\n",
       "      <td>40304</td>\n",
       "      <td>3034</td>\n",
       "    </tr>\n",
       "    <tr>\n",
       "      <th>60125</th>\n",
       "      <td>62</td>\n",
       "      <td>2</td>\n",
       "      <td>2572</td>\n",
       "      <td>09.06.19</td>\n",
       "      <td>53478</td>\n",
       "      <td>53497</td>\n",
       "      <td>3034</td>\n",
       "    </tr>\n",
       "    <tr>\n",
       "      <th>60124</th>\n",
       "      <td>62</td>\n",
       "      <td>2</td>\n",
       "      <td>2572</td>\n",
       "      <td>09.06.19</td>\n",
       "      <td>66678</td>\n",
       "      <td>66706</td>\n",
       "      <td>3034</td>\n",
       "    </tr>\n",
       "    <tr>\n",
       "      <th>60123</th>\n",
       "      <td>62</td>\n",
       "      <td>2</td>\n",
       "      <td>2572</td>\n",
       "      <td>09.06.19</td>\n",
       "      <td>29472</td>\n",
       "      <td>29469</td>\n",
       "      <td>3034</td>\n",
       "    </tr>\n",
       "    <tr>\n",
       "      <th>60122</th>\n",
       "      <td>62</td>\n",
       "      <td>2</td>\n",
       "      <td>2572</td>\n",
       "      <td>09.06.19</td>\n",
       "      <td>60678</td>\n",
       "      <td>60775</td>\n",
       "      <td>3034</td>\n",
       "    </tr>\n",
       "    <tr>\n",
       "      <th>60129</th>\n",
       "      <td>62</td>\n",
       "      <td>2</td>\n",
       "      <td>2572</td>\n",
       "      <td>09.06.19</td>\n",
       "      <td>18192</td>\n",
       "      <td>18182</td>\n",
       "      <td>3034</td>\n",
       "    </tr>\n",
       "    <tr>\n",
       "      <th>60121</th>\n",
       "      <td>62</td>\n",
       "      <td>2</td>\n",
       "      <td>2572</td>\n",
       "      <td>09.06.19</td>\n",
       "      <td>34872</td>\n",
       "      <td>34910</td>\n",
       "      <td>3034</td>\n",
       "    </tr>\n",
       "  </tbody>\n",
       "</table>\n",
       "</div>"
      ],
      "text/plain": [
       "      line direction station_diva_id      date should_arrive_at  \\\n",
       "60137   62         2            2572  09.06.19            70278   \n",
       "60128   62         2            2572  09.06.19            20472   \n",
       "60127   62         2            2572  09.06.19            77472   \n",
       "60126   62         2            2572  09.06.19            40278   \n",
       "60125   62         2            2572  09.06.19            53478   \n",
       "60124   62         2            2572  09.06.19            66678   \n",
       "60123   62         2            2572  09.06.19            29472   \n",
       "60122   62         2            2572  09.06.19            60678   \n",
       "60129   62         2            2572  09.06.19            18192   \n",
       "60121   62         2            2572  09.06.19            34872   \n",
       "\n",
       "      actually_arrived_at next_station_diva_nach  \n",
       "60137               70237                   3034  \n",
       "60128               20482                   3034  \n",
       "60127               77506                   3034  \n",
       "60126               40304                   3034  \n",
       "60125               53497                   3034  \n",
       "60124               66706                   3034  \n",
       "60123               29469                   3034  \n",
       "60122               60775                   3034  \n",
       "60129               18182                   3034  \n",
       "60121               34910                   3034  "
      ]
     },
     "execution_count": 4,
     "metadata": {},
     "output_type": "execute_result"
    }
   ],
   "source": [
    "print('stationDS data shape: ', stationDS.shape)\n",
    "stationDS = stationDS.sort_values(by='date', ascending=True)\n",
    "stationDS.head(10)"
   ]
  },
  {
   "cell_type": "code",
   "execution_count": null,
   "metadata": {},
   "outputs": [],
   "source": [
    "# fileToSave = 'data/generated/station_' + str(targetStationId) + '.csv'\n",
    "# targetStationData.to_csv(fileToSave, encoding='utf-8', index=False)"
   ]
  },
  {
   "cell_type": "markdown",
   "metadata": {},
   "source": [
    "Data types of the columns"
   ]
  },
  {
   "cell_type": "code",
   "execution_count": 5,
   "metadata": {},
   "outputs": [
    {
     "data": {
      "text/plain": [
       "line                      object\n",
       "direction                 object\n",
       "station_diva_id           object\n",
       "date                      object\n",
       "should_arrive_at          object\n",
       "actually_arrived_at       object\n",
       "next_station_diva_nach    object\n",
       "dtype: object"
      ]
     },
     "execution_count": 5,
     "metadata": {},
     "output_type": "execute_result"
    }
   ],
   "source": [
    "stationDS.dtypes"
   ]
  },
  {
   "cell_type": "code",
   "execution_count": 25,
   "metadata": {},
   "outputs": [
    {
     "name": "stdout",
     "output_type": "stream",
     "text": [
      "[8, 10, 11, 12, 14, 15, 17, 61, 62, 75, 94]\n"
     ]
    },
    {
     "data": {
      "image/png": "[encoded data removed]",
      "text/plain": [
       "<Figure size 1080x360 with 2 Axes>"
      ]
     },
     "metadata": {
      "needs_background": "light"
     },
     "output_type": "display_data"
    }
   ],
   "source": [
    "ds = stationDS\n",
    "\n",
    "# fig, ax = plt.subplots()\n",
    "# ax.set_title('Data count per day')\n",
    "# ax.set_ylabel('count')\n",
    "# ax.plot(count_per_day.index, count_per_day.line)\n",
    "# ax.margins(x=0, y=0)\n",
    "\n",
    "# plt.hist(ds.date)\n",
    "# plt.ylabel('Data count per day');\n",
    "\n",
    "\n",
    "# Set up the plotting layout\n",
    "fig, (ax1, ax2) = plt.subplots(nrows=1, ncols=2, figsize = (15,5))\n",
    "fig.autofmt_xdate(rotation = 45)\n",
    "\n",
    "ax1.set_xlabel('Date'); ax1.set_ylabel('count'); ax1.set_title('Data count per day')\n",
    "# ax1.hist(ds.date)\n",
    "count_per_day = ds.groupby('date').count()\n",
    "ax1.bar(count_per_day.index, count_per_day.line, orientation = 'vertical', color = 'r', edgecolor = 'k', linewidth = 1.2);\n",
    "\n",
    "\n",
    "ax2.set_xlabel('Line'); ax2.set_ylabel('count'); ax2.set_title('Data count per line')\n",
    "# ax2.hist(ds.line);\n",
    "count_per_line = ds.groupby('line').count()\n",
    "ax2.bar(count_per_line.index, count_per_line.date, orientation = 'vertical', color = 'r', edgecolor = 'k', linewidth = 1.2);\n",
    "lines = ds.line.unique()\n",
    "print(sorted(lines))\n",
    "# plt.xticks(count_per_line.index, count_per_line['index'].apply(str), rotation='vertical')"
   ]
  },
  {
   "cell_type": "code",
   "execution_count": 83,
   "metadata": {},
   "outputs": [
    {
     "name": "stdout",
     "output_type": "stream",
     "text": [
      "(31337, 10)\n"
     ]
    },
    {
     "data": {
      "text/html": [
       "<div>\n",
       "<style scoped>\n",
       "    .dataframe tbody tr th:only-of-type {\n",
       "        vertical-align: middle;\n",
       "    }\n",
       "\n",
       "    .dataframe tbody tr th {\n",
       "        vertical-align: top;\n",
       "    }\n",
       "\n",
       "    .dataframe thead th {\n",
       "        text-align: right;\n",
       "    }\n",
       "</style>\n",
       "<table border=\"1\" class=\"dataframe\">\n",
       "  <thead>\n",
       "    <tr style=\"text-align: right;\">\n",
       "      <th></th>\n",
       "      <th>line</th>\n",
       "      <th>direction</th>\n",
       "      <th>station_diva_id</th>\n",
       "      <th>should_arrive_at</th>\n",
       "      <th>next_station_diva_nach</th>\n",
       "      <th>day_of_week</th>\n",
       "      <th>day</th>\n",
       "      <th>month</th>\n",
       "      <th>year</th>\n",
       "      <th>delays</th>\n",
       "    </tr>\n",
       "  </thead>\n",
       "  <tbody>\n",
       "    <tr>\n",
       "      <th>60137</th>\n",
       "      <td>62</td>\n",
       "      <td>2</td>\n",
       "      <td>2572</td>\n",
       "      <td>70278</td>\n",
       "      <td>3034</td>\n",
       "      <td>4</td>\n",
       "      <td>6</td>\n",
       "      <td>9</td>\n",
       "      <td>2019</td>\n",
       "      <td>-41</td>\n",
       "    </tr>\n",
       "    <tr>\n",
       "      <th>60128</th>\n",
       "      <td>62</td>\n",
       "      <td>2</td>\n",
       "      <td>2572</td>\n",
       "      <td>20472</td>\n",
       "      <td>3034</td>\n",
       "      <td>4</td>\n",
       "      <td>6</td>\n",
       "      <td>9</td>\n",
       "      <td>2019</td>\n",
       "      <td>10</td>\n",
       "    </tr>\n",
       "    <tr>\n",
       "      <th>60127</th>\n",
       "      <td>62</td>\n",
       "      <td>2</td>\n",
       "      <td>2572</td>\n",
       "      <td>77472</td>\n",
       "      <td>3034</td>\n",
       "      <td>4</td>\n",
       "      <td>6</td>\n",
       "      <td>9</td>\n",
       "      <td>2019</td>\n",
       "      <td>34</td>\n",
       "    </tr>\n",
       "    <tr>\n",
       "      <th>60126</th>\n",
       "      <td>62</td>\n",
       "      <td>2</td>\n",
       "      <td>2572</td>\n",
       "      <td>40278</td>\n",
       "      <td>3034</td>\n",
       "      <td>4</td>\n",
       "      <td>6</td>\n",
       "      <td>9</td>\n",
       "      <td>2019</td>\n",
       "      <td>26</td>\n",
       "    </tr>\n",
       "    <tr>\n",
       "      <th>60125</th>\n",
       "      <td>62</td>\n",
       "      <td>2</td>\n",
       "      <td>2572</td>\n",
       "      <td>53478</td>\n",
       "      <td>3034</td>\n",
       "      <td>4</td>\n",
       "      <td>6</td>\n",
       "      <td>9</td>\n",
       "      <td>2019</td>\n",
       "      <td>19</td>\n",
       "    </tr>\n",
       "  </tbody>\n",
       "</table>\n",
       "</div>"
      ],
      "text/plain": [
       "      line direction station_diva_id should_arrive_at next_station_diva_nach  \\\n",
       "60137   62         2            2572            70278                   3034   \n",
       "60128   62         2            2572            20472                   3034   \n",
       "60127   62         2            2572            77472                   3034   \n",
       "60126   62         2            2572            40278                   3034   \n",
       "60125   62         2            2572            53478                   3034   \n",
       "\n",
       "       day_of_week  day  month  year delays  \n",
       "60137            4    6      9  2019    -41  \n",
       "60128            4    6      9  2019     10  \n",
       "60127            4    6      9  2019     34  \n",
       "60126            4    6      9  2019     26  \n",
       "60125            4    6      9  2019     19  "
      ]
     },
     "execution_count": 83,
     "metadata": {},
     "output_type": "execute_result"
    }
   ],
   "source": [
    "features = ds;\n",
    "# Add column to represent day of week\n",
    "features['date'] = pd.to_datetime(features['date'])\n",
    "features['day_of_week'] = features['date'].dt.weekday\n",
    "\n",
    "# split date into day, month, year\n",
    "features['day'] = features['date'].dt.day\n",
    "features['month'] = features['date'].dt.month\n",
    "# features['year'] = features['date'].dt.year\n",
    "\n",
    "# drop date column because we splitted it\n",
    "features = features.drop('date', axis = 1)\n",
    "\n",
    "# calculate delay time by subtracting y-x\n",
    "# delays in sec --> y (target)\n",
    "features['delays'] = features['actually_arrived_at'] - features['should_arrive_at']\n",
    "\n",
    "# drop 'actually_arrived_at' column because we have delays now!\n",
    "features = features.drop('actually_arrived_at', axis = 1)\n",
    "\n",
    "# Saving feature names for later use\n",
    "feature_list = list(features.columns)\n",
    "\n",
    "print(features.shape)\n",
    "features.head()\n",
    "# ds.day_of_week.unique()"
   ]
  },
  {
   "cell_type": "code",
   "execution_count": 70,
   "metadata": {},
   "outputs": [],
   "source": [
    "#delays"
   ]
  },
  {
   "cell_type": "code",
   "execution_count": 81,
   "metadata": {},
   "outputs": [
    {
     "data": {
      "image/png": "[encoded data removed]",
      "text/plain": [
       "<Figure size 1080x360 with 2 Axes>"
      ]
     },
     "metadata": {
      "needs_background": "light"
     },
     "output_type": "display_data"
    }
   ],
   "source": [
    "fig, (ax1, ax2) = plt.subplots(nrows=1, ncols=2, figsize = (15,5))\n",
    "fig.autofmt_xdate(rotation = 45)\n",
    "\n",
    "filteredDS = features[(features['delays'] >= 0) & (features['delays'] < 600)]\n",
    "# delays2.head()\n",
    "\n",
    "ax1.set_xlabel('Time (sec)'); ax1.set_ylabel('count'); ax1.set_title('Delays')\n",
    "ax1.hist(filteredDS.delays, bins=50);\n",
    "# ax1.scatter(delays, delays);\n",
    "# count_per_line = ds.groupby('line').count()\n",
    "# ax2.bar(count_per_line.index, count_per_line.date, orientation = 'vertical', color = 'r', edgecolor = 'k', linewidth = 1.2);"
   ]
  },
  {
   "cell_type": "code",
   "execution_count": 38,
   "metadata": {},
   "outputs": [],
   "source": [
    "# Convert to numpy array\n",
    "features = np.array(features)\n",
    "labels = np.array(delays)"
   ]
  },
  {
   "cell_type": "code",
   "execution_count": 39,
   "metadata": {},
   "outputs": [
    {
     "name": "stdout",
     "output_type": "stream",
     "text": [
      "[[62 2 2572 70278 3034 4 6 9 2019]\n",
      " [62 2 2572 20472 3034 4 6 9 2019]\n",
      " [62 2 2572 77472 3034 4 6 9 2019]\n",
      " [62 2 2572 40278 3034 4 6 9 2019]\n",
      " [62 2 2572 53478 3034 4 6 9 2019]]\n",
      "[-41 10 34 26 19]\n"
     ]
    }
   ],
   "source": [
    "print(features[:5])\n",
    "print(labels[:5])"
   ]
  },
  {
   "cell_type": "code",
   "execution_count": 40,
   "metadata": {},
   "outputs": [
    {
     "name": "stdout",
     "output_type": "stream",
     "text": [
      "Training Features Shape: (25069, 9)\n",
      "Training Labels Shape: (25069,)\n",
      "Testing Features Shape: (6268, 9)\n",
      "Testing Labels Shape: (6268,)\n"
     ]
    }
   ],
   "source": [
    "from sklearn.model_selection import train_test_split\n",
    "\n",
    "train_features, test_features, train_labels, test_labels = train_test_split(\n",
    "    features, labels, test_size = 0.20, random_state = 42\n",
    ");\n",
    "\n",
    "print('Training Features Shape:', train_features.shape)\n",
    "print('Training Labels Shape:', train_labels.shape)\n",
    "print('Testing Features Shape:', test_features.shape)\n",
    "print('Testing Labels Shape:', test_labels.shape)"
   ]
  },
  {
   "cell_type": "code",
   "execution_count": 41,
   "metadata": {},
   "outputs": [],
   "source": [
    "from sklearn.ensemble import RandomForestRegressor\n",
    "\n",
    "# Instantiate model with 1000 decision trees\n",
    "rf = RandomForestRegressor(n_estimators = 1000, random_state = 42)\n",
    "\n",
    "# Train the model on training data\n",
    "rf.fit(train_features, train_labels);"
   ]
  },
  {
   "cell_type": "code",
   "execution_count": 42,
   "metadata": {},
   "outputs": [],
   "source": [
    "# Use the forest's predict method on the test data\n",
    "predictions = rf.predict(test_features)"
   ]
  },
  {
   "cell_type": "code",
   "execution_count": 45,
   "metadata": {},
   "outputs": [
    {
     "name": "stdout",
     "output_type": "stream",
     "text": [
      "[83 -28 49 85 32 63 -32 10 222 10 53 -9 89 60 269]\n",
      "[  5.353 -31.377  39.075  68.153  25.631  14.712   6.416  49.467 211.706\n",
      "   8.85  113.407  15.579 -10.526  26.397 109.198]\n"
     ]
    }
   ],
   "source": [
    "print(test_labels[:15])\n",
    "print(predictions[:15])"
   ]
  },
  {
   "cell_type": "code",
   "execution_count": 51,
   "metadata": {},
   "outputs": [
    {
     "name": "stdout",
     "output_type": "stream",
     "text": [
      "l2 Error: 28921.13 degrees.\n",
      "Accuracy: 5948.31 %.\n"
     ]
    }
   ],
   "source": [
    "\n",
    "\n",
    "# Calculate the absolute errors\n",
    "errors = abs(predictions - test_labels)\n",
    "l2_norm =  np.square(errors)\n",
    "print('l2 Error:', round(np.mean(l2_norm), 2), 'degrees.')\n",
    "# Print out the mean absolute error (mae)\n",
    "# print('Mean Absolute Error:', round(np.mean(errors), 2), 'degrees.')\n",
    "\n",
    "# Calculate mean absolute percentage error (MAPE)\n",
    "mape = 100 * ((errors + 1 + 6353) / (test_labels + 1 + 6353))\n",
    "\n",
    "# Calculate and display accuracy\n",
    "accuracy = 100 - np.mean(mape - 6353 - 1)\n",
    "print('Accuracy:', round(accuracy, 2), '%.')"
   ]
  },
  {
   "cell_type": "code",
   "execution_count": null,
   "metadata": {},
   "outputs": [],
   "source": []
  }
 ],
 "metadata": {
  "kernelspec": {
   "display_name": "Python 3",
   "language": "python",
   "name": "python3"
  },
  "language_info": {
   "codemirror_mode": {
    "name": "ipython",
    "version": 3
   },
   "file_extension": ".py",
   "mimetype": "text/x-python",
   "name": "python",
   "nbconvert_exporter": "python",
   "pygments_lexer": "ipython3",
   "version": "3.7.3"
  }
 },
 "nbformat": 4,
 "nbformat_minor": 2
}
