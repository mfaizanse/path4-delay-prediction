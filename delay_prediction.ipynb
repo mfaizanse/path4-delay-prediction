{
 "cells": [
  {
   "cell_type": "code",
   "execution_count": 1,
   "metadata": {},
   "outputs": [],
   "source": [
    "import csv\n",
    "import numpy as np\n",
    "import pandas as pd\n",
    "import matplotlib.pyplot as plt"
   ]
  },
  {
   "cell_type": "code",
   "execution_count": 2,
   "metadata": {},
   "outputs": [],
   "source": [
    "col_names = ['line', 'direction', 'station_diva_id', 'date', 'should_arrive_at', \n",
    "              'actually_arrived_at', 'next_station_diva_nach']"
   ]
  },
  {
   "cell_type": "markdown",
   "metadata": {},
   "source": [
    "Only working with single public transport station to predict the behaviour on single station"
   ]
  },
  {
   "cell_type": "code",
   "execution_count": 3,
   "metadata": {},
   "outputs": [],
   "source": [
    "targetStationId = 2572"
   ]
  },
  {
   "cell_type": "markdown",
   "metadata": {},
   "source": [
    "Read weekly data, filter out and append to stationDS (i.e. station dataset)"
   ]
  },
  {
   "cell_type": "code",
   "execution_count": 4,
   "metadata": {},
   "outputs": [
    {
     "name": "stderr",
     "output_type": "stream",
     "text": [
      "/home/faizi/programs/anaconda3/envs/dps/lib/python3.7/site-packages/pandas/core/frame.py:6692: FutureWarning: Sorting because non-concatenation axis is not aligned. A future version\n",
      "of pandas will change to not sort by default.\n",
      "\n",
      "To accept the future behavior, pass 'sort=False'.\n",
      "\n",
      "To retain the current behavior and silence the warning, pass 'sort=True'.\n",
      "\n",
      "  sort=sort)\n"
     ]
    }
   ],
   "source": [
    "stationDS = pd.DataFrame(columns=col_names)\n",
    "\n",
    "csv_names = ['fahrzeiten_soll_ist_20190630_20190706.csv',\n",
    "             'fahrzeiten_soll_ist_20190623_20190629.csv',\n",
    "             'fahrzeiten_soll_ist_20190616_20190622.csv', \n",
    "             'fahrzeiten_soll_ist_20190609_20190615.csv',\n",
    "             'fahrzeiten_soll_ist_20190602_20190608.csv',\n",
    "             'fahrzeiten_soll_ist_20190526_20190601.csv',\n",
    "             'fahrzeiten_soll_ist_20190519_20190525.csv',\n",
    "             'fahrzeiten_soll_ist_20190512_20190518.csv',\n",
    "             'fahrzeiten_soll_ist_20190505_20190511.csv',\n",
    "             'fahrzeiten_soll_ist_20190428_20190504.csv',\n",
    "             'fahrzeiten_soll_ist_20190421_20190427.csv',\n",
    "             'fahrzeiten_soll_ist_20190414_20190420.csv']\n",
    "\n",
    "for name in csv_names:\n",
    "    dataSet = pd.read_csv('data/' + name)\n",
    "    # filter required columns\n",
    "    ds = dataSet.loc[:, ['linie', 'richtung', 'halt_diva_von', 'datum_von', 'soll_an_von', 'ist_an_von', 'halt_diva_nach']]\n",
    "    # filter data for only the target station\n",
    "    ds = ds.loc[ds['halt_diva_von'] == targetStationId]\n",
    "    # rename column name to English\n",
    "    ds.columns = col_names\n",
    "    # Calculate delays\n",
    "    ds['delays'] = ds['actually_arrived_at'] - ds['should_arrive_at']\n",
    "    # Filter out rows with delay 0 <= dealy < 600\n",
    "    ds = ds.loc[(ds['delays'] >= 0) & (ds['delays'] < 600)]\n",
    "    # Append to stationDS\n",
    "    stationDS = stationDS.append(ds.copy())\n",
    "    # Release memory\n",
    "    del ds"
   ]
  },
  {
   "cell_type": "code",
   "execution_count": 5,
   "metadata": {},
   "outputs": [
    {
     "name": "stdout",
     "output_type": "stream",
     "text": [
      "stationDS shape:  (88066, 8)\n"
     ]
    },
    {
     "data": {
      "text/html": [
       "<div>\n",
       "<style scoped>\n",
       "    .dataframe tbody tr th:only-of-type {\n",
       "        vertical-align: middle;\n",
       "    }\n",
       "\n",
       "    .dataframe tbody tr th {\n",
       "        vertical-align: top;\n",
       "    }\n",
       "\n",
       "    .dataframe thead th {\n",
       "        text-align: right;\n",
       "    }\n",
       "</style>\n",
       "<table border=\"1\" class=\"dataframe\">\n",
       "  <thead>\n",
       "    <tr style=\"text-align: right;\">\n",
       "      <th></th>\n",
       "      <th>actually_arrived_at</th>\n",
       "      <th>date</th>\n",
       "      <th>delays</th>\n",
       "      <th>direction</th>\n",
       "      <th>line</th>\n",
       "      <th>next_station_diva_nach</th>\n",
       "      <th>should_arrive_at</th>\n",
       "      <th>station_diva_id</th>\n",
       "    </tr>\n",
       "  </thead>\n",
       "  <tbody>\n",
       "    <tr>\n",
       "      <th>792626</th>\n",
       "      <td>273</td>\n",
       "      <td>2019-01-05</td>\n",
       "      <td>81.0</td>\n",
       "      <td>2</td>\n",
       "      <td>94</td>\n",
       "      <td>3034</td>\n",
       "      <td>192</td>\n",
       "      <td>2572</td>\n",
       "    </tr>\n",
       "    <tr>\n",
       "      <th>152875</th>\n",
       "      <td>508</td>\n",
       "      <td>2019-01-05</td>\n",
       "      <td>4.0</td>\n",
       "      <td>1</td>\n",
       "      <td>75</td>\n",
       "      <td>694</td>\n",
       "      <td>504</td>\n",
       "      <td>2572</td>\n",
       "    </tr>\n",
       "    <tr>\n",
       "      <th>1270327</th>\n",
       "      <td>673</td>\n",
       "      <td>2019-01-05</td>\n",
       "      <td>37.0</td>\n",
       "      <td>2</td>\n",
       "      <td>11</td>\n",
       "      <td>3154</td>\n",
       "      <td>636</td>\n",
       "      <td>2572</td>\n",
       "    </tr>\n",
       "    <tr>\n",
       "      <th>958421</th>\n",
       "      <td>736</td>\n",
       "      <td>2019-01-05</td>\n",
       "      <td>4.0</td>\n",
       "      <td>1</td>\n",
       "      <td>14</td>\n",
       "      <td>2151</td>\n",
       "      <td>732</td>\n",
       "      <td>2572</td>\n",
       "    </tr>\n",
       "    <tr>\n",
       "      <th>748466</th>\n",
       "      <td>1156</td>\n",
       "      <td>2019-01-05</td>\n",
       "      <td>136.0</td>\n",
       "      <td>1</td>\n",
       "      <td>15</td>\n",
       "      <td>6033</td>\n",
       "      <td>1020</td>\n",
       "      <td>2572</td>\n",
       "    </tr>\n",
       "    <tr>\n",
       "      <th>57267</th>\n",
       "      <td>1159</td>\n",
       "      <td>2019-01-05</td>\n",
       "      <td>7.0</td>\n",
       "      <td>2</td>\n",
       "      <td>10</td>\n",
       "      <td>3034</td>\n",
       "      <td>1152</td>\n",
       "      <td>2572</td>\n",
       "    </tr>\n",
       "    <tr>\n",
       "      <th>156695</th>\n",
       "      <td>1368</td>\n",
       "      <td>2019-01-05</td>\n",
       "      <td>6.0</td>\n",
       "      <td>1</td>\n",
       "      <td>10</td>\n",
       "      <td>6033</td>\n",
       "      <td>1362</td>\n",
       "      <td>2572</td>\n",
       "    </tr>\n",
       "    <tr>\n",
       "      <th>152876</th>\n",
       "      <td>1410</td>\n",
       "      <td>2019-01-05</td>\n",
       "      <td>6.0</td>\n",
       "      <td>1</td>\n",
       "      <td>75</td>\n",
       "      <td>694</td>\n",
       "      <td>1404</td>\n",
       "      <td>2572</td>\n",
       "    </tr>\n",
       "    <tr>\n",
       "      <th>156697</th>\n",
       "      <td>1467</td>\n",
       "      <td>2019-01-05</td>\n",
       "      <td>27.0</td>\n",
       "      <td>1</td>\n",
       "      <td>12</td>\n",
       "      <td>6033</td>\n",
       "      <td>1440</td>\n",
       "      <td>2572</td>\n",
       "    </tr>\n",
       "    <tr>\n",
       "      <th>1270325</th>\n",
       "      <td>1583</td>\n",
       "      <td>2019-01-05</td>\n",
       "      <td>47.0</td>\n",
       "      <td>2</td>\n",
       "      <td>11</td>\n",
       "      <td>3154</td>\n",
       "      <td>1536</td>\n",
       "      <td>2572</td>\n",
       "    </tr>\n",
       "  </tbody>\n",
       "</table>\n",
       "</div>"
      ],
      "text/plain": [
       "        actually_arrived_at       date  delays direction line  \\\n",
       "792626                  273 2019-01-05    81.0         2   94   \n",
       "152875                  508 2019-01-05     4.0         1   75   \n",
       "1270327                 673 2019-01-05    37.0         2   11   \n",
       "958421                  736 2019-01-05     4.0         1   14   \n",
       "748466                 1156 2019-01-05   136.0         1   15   \n",
       "57267                  1159 2019-01-05     7.0         2   10   \n",
       "156695                 1368 2019-01-05     6.0         1   10   \n",
       "152876                 1410 2019-01-05     6.0         1   75   \n",
       "156697                 1467 2019-01-05    27.0         1   12   \n",
       "1270325                1583 2019-01-05    47.0         2   11   \n",
       "\n",
       "        next_station_diva_nach should_arrive_at station_diva_id  \n",
       "792626                    3034              192            2572  \n",
       "152875                     694              504            2572  \n",
       "1270327                   3154              636            2572  \n",
       "958421                    2151              732            2572  \n",
       "748466                    6033             1020            2572  \n",
       "57267                     3034             1152            2572  \n",
       "156695                    6033             1362            2572  \n",
       "152876                     694             1404            2572  \n",
       "156697                    6033             1440            2572  \n",
       "1270325                   3154             1536            2572  "
      ]
     },
     "execution_count": 5,
     "metadata": {},
     "output_type": "execute_result"
    }
   ],
   "source": [
    "print('stationDS shape: ', stationDS.shape)\n",
    "# sort data by date and expected arrival time\n",
    "stationDS['date'] = pd.to_datetime(stationDS['date'])\n",
    "stationDS = stationDS.sort_values(by=['date', 'should_arrive_at'], ascending=True)\n",
    "stationDS.head(10)"
   ]
  },
  {
   "cell_type": "markdown",
   "metadata": {},
   "source": [
    "Save to file for reference"
   ]
  },
  {
   "cell_type": "code",
   "execution_count": 6,
   "metadata": {},
   "outputs": [],
   "source": [
    "fileToSave = 'data/generated/station_' + str(targetStationId) + '.csv'\n",
    "stationDS.to_csv(fileToSave, encoding='utf-8', index=False)"
   ]
  },
  {
   "cell_type": "markdown",
   "metadata": {},
   "source": [
    "Data types of the columns"
   ]
  },
  {
   "cell_type": "code",
   "execution_count": 7,
   "metadata": {},
   "outputs": [
    {
     "data": {
      "text/plain": [
       "array(['2019-01-05T00:00:00.000000000', '2019-01-06T00:00:00.000000000',\n",
       "       '2019-01-07T00:00:00.000000000', '2019-02-05T00:00:00.000000000',\n",
       "       '2019-02-06T00:00:00.000000000', '2019-02-07T00:00:00.000000000',\n",
       "       '2019-03-05T00:00:00.000000000', '2019-03-06T00:00:00.000000000',\n",
       "       '2019-03-07T00:00:00.000000000', '2019-04-05T00:00:00.000000000',\n",
       "       '2019-04-06T00:00:00.000000000', '2019-04-07T00:00:00.000000000',\n",
       "       '2019-04-14T00:00:00.000000000', '2019-04-15T00:00:00.000000000',\n",
       "       '2019-04-16T00:00:00.000000000', '2019-04-17T00:00:00.000000000',\n",
       "       '2019-04-18T00:00:00.000000000', '2019-04-19T00:00:00.000000000',\n",
       "       '2019-04-20T00:00:00.000000000', '2019-04-21T00:00:00.000000000',\n",
       "       '2019-04-22T00:00:00.000000000', '2019-04-23T00:00:00.000000000',\n",
       "       '2019-04-24T00:00:00.000000000', '2019-04-25T00:00:00.000000000',\n",
       "       '2019-04-26T00:00:00.000000000', '2019-04-27T00:00:00.000000000',\n",
       "       '2019-04-28T00:00:00.000000000', '2019-04-29T00:00:00.000000000',\n",
       "       '2019-04-30T00:00:00.000000000', '2019-05-05T00:00:00.000000000',\n",
       "       '2019-05-06T00:00:00.000000000', '2019-05-07T00:00:00.000000000',\n",
       "       '2019-05-13T00:00:00.000000000', '2019-05-14T00:00:00.000000000',\n",
       "       '2019-05-15T00:00:00.000000000', '2019-05-16T00:00:00.000000000',\n",
       "       '2019-05-17T00:00:00.000000000', '2019-05-18T00:00:00.000000000',\n",
       "       '2019-05-19T00:00:00.000000000', '2019-05-20T00:00:00.000000000',\n",
       "       '2019-05-21T00:00:00.000000000', '2019-05-22T00:00:00.000000000',\n",
       "       '2019-05-23T00:00:00.000000000', '2019-05-24T00:00:00.000000000',\n",
       "       '2019-05-25T00:00:00.000000000', '2019-05-26T00:00:00.000000000',\n",
       "       '2019-05-27T00:00:00.000000000', '2019-05-28T00:00:00.000000000',\n",
       "       '2019-05-29T00:00:00.000000000', '2019-05-30T00:00:00.000000000',\n",
       "       '2019-05-31T00:00:00.000000000', '2019-06-05T00:00:00.000000000',\n",
       "       '2019-06-06T00:00:00.000000000', '2019-06-07T00:00:00.000000000',\n",
       "       '2019-06-13T00:00:00.000000000', '2019-06-14T00:00:00.000000000',\n",
       "       '2019-06-15T00:00:00.000000000', '2019-06-16T00:00:00.000000000',\n",
       "       '2019-06-17T00:00:00.000000000', '2019-06-18T00:00:00.000000000',\n",
       "       '2019-06-19T00:00:00.000000000', '2019-06-20T00:00:00.000000000',\n",
       "       '2019-06-21T00:00:00.000000000', '2019-06-22T00:00:00.000000000',\n",
       "       '2019-06-23T00:00:00.000000000', '2019-06-24T00:00:00.000000000',\n",
       "       '2019-06-25T00:00:00.000000000', '2019-06-26T00:00:00.000000000',\n",
       "       '2019-06-27T00:00:00.000000000', '2019-06-28T00:00:00.000000000',\n",
       "       '2019-06-29T00:00:00.000000000', '2019-06-30T00:00:00.000000000',\n",
       "       '2019-07-05T00:00:00.000000000', '2019-07-06T00:00:00.000000000',\n",
       "       '2019-07-07T00:00:00.000000000', '2019-08-05T00:00:00.000000000',\n",
       "       '2019-08-06T00:00:00.000000000', '2019-09-05T00:00:00.000000000',\n",
       "       '2019-09-06T00:00:00.000000000', '2019-10-05T00:00:00.000000000',\n",
       "       '2019-10-06T00:00:00.000000000', '2019-11-05T00:00:00.000000000',\n",
       "       '2019-11-06T00:00:00.000000000', '2019-12-05T00:00:00.000000000',\n",
       "       '2019-12-06T00:00:00.000000000'], dtype='datetime64[ns]')"
      ]
     },
     "execution_count": 7,
     "metadata": {},
     "output_type": "execute_result"
    }
   ],
   "source": [
    "stationDS.dtypes\n",
    "stationDS.date.unique()"
   ]
  },
  {
   "cell_type": "code",
   "execution_count": 8,
   "metadata": {},
   "outputs": [],
   "source": [
    "ds = stationDS.copy()"
   ]
  },
  {
   "cell_type": "code",
   "execution_count": 9,
   "metadata": {},
   "outputs": [
    {
     "name": "stderr",
     "output_type": "stream",
     "text": [
      "/home/faizi/programs/anaconda3/envs/dps/lib/python3.7/site-packages/pandas/plotting/_converter.py:129: FutureWarning: Using an implicitly registered datetime converter for a matplotlib plotting method. The converter was registered by pandas on import. Future versions of pandas will require you to explicitly register matplotlib converters.\n",
      "\n",
      "To register the converters:\n",
      "\t>>> from pandas.plotting import register_matplotlib_converters\n",
      "\t>>> register_matplotlib_converters()\n",
      "  warnings.warn(msg, FutureWarning)\n"
     ]
    },
    {
     "name": "stdout",
     "output_type": "stream",
     "text": [
      "[8, 10, 11, 12, 14, 15, 17, 61, 62, 75, 94]\n"
     ]
    },
    {
     "data": {
      "image/png": "[encoded data removed]",
      "text/plain": [
       "<Figure size 1080x360 with 4 Axes>"
      ]
     },
     "metadata": {
      "needs_background": "light"
     },
     "output_type": "display_data"
    }
   ],
   "source": [
    "#Plotting graphs\n",
    "\n",
    "# fig, ax = plt.subplots()\n",
    "# ax.set_title('Data count per day')\n",
    "# ax.set_ylabel('count')\n",
    "# ax.plot(count_per_day.index, count_per_day.line)\n",
    "# ax.margins(x=0, y=0)\n",
    "\n",
    "# plt.hist(ds.date)\n",
    "# plt.ylabel('Data count per day');\n",
    "\n",
    "\n",
    "# Set up the plotting layout\n",
    "fig, ((ax1, ax2), (ax21, ax22)) = plt.subplots(nrows=2, ncols=2, figsize = (15,5))\n",
    "fig.autofmt_xdate(rotation = 45)\n",
    "\n",
    "ax1.set_xlabel('Date'); ax1.set_ylabel('count'); ax1.set_title('Data count per day')\n",
    "# ax1.hist(ds.date)\n",
    "count_per_day = ds.groupby('date').count()\n",
    "ax1.bar(count_per_day.index, count_per_day.line, orientation = 'vertical', color = 'r', edgecolor = 'k', linewidth = 1.2);\n",
    "\n",
    "\n",
    "ax2.set_xlabel('Line'); ax2.set_ylabel('count'); ax2.set_title('Data count per line')\n",
    "# ax2.hist(ds.line);\n",
    "count_per_line = ds.groupby('line').count()\n",
    "ax2.bar(count_per_line.index, count_per_line.date, orientation = 'vertical', color = 'r', edgecolor = 'k', linewidth = 1.2);\n",
    "lines = ds.line.unique()\n",
    "print(sorted(lines))\n",
    "# plt.xticks(count_per_line.index, count_per_line['index'].apply(str), rotation='vertical')\n",
    "\n",
    "# fig, ax1 = plt.subplots(nrows=1, ncols=1, figsize = (15,5))\n",
    "# fig.autofmt_xdate(rotation = 45)\n",
    "\n",
    "ax21.set_xlabel('Time (sec)'); ax1.set_ylabel('count'); ax1.set_title('Delays distribution')\n",
    "ax21.hist(ds.delays, bins=100);\n",
    "# ax1.scatter(delays, delays);\n",
    "# count_per_line = ds.groupby('line').count()\n",
    "# ax2.bar(count_per_line.index, count_per_line.date, orientation = 'vertical', color = 'r', edgecolor = 'k', linewidth = 1.2);"
   ]
  },
  {
   "cell_type": "code",
   "execution_count": 10,
   "metadata": {},
   "outputs": [
    {
     "name": "stdout",
     "output_type": "stream",
     "text": [
      "(88066, 9)\n"
     ]
    },
    {
     "data": {
      "text/html": [
       "<div>\n",
       "<style scoped>\n",
       "    .dataframe tbody tr th:only-of-type {\n",
       "        vertical-align: middle;\n",
       "    }\n",
       "\n",
       "    .dataframe tbody tr th {\n",
       "        vertical-align: top;\n",
       "    }\n",
       "\n",
       "    .dataframe thead th {\n",
       "        text-align: right;\n",
       "    }\n",
       "</style>\n",
       "<table border=\"1\" class=\"dataframe\">\n",
       "  <thead>\n",
       "    <tr style=\"text-align: right;\">\n",
       "      <th></th>\n",
       "      <th>delays</th>\n",
       "      <th>direction</th>\n",
       "      <th>line</th>\n",
       "      <th>next_station_diva_nach</th>\n",
       "      <th>should_arrive_at</th>\n",
       "      <th>station_diva_id</th>\n",
       "      <th>day_of_week</th>\n",
       "      <th>day</th>\n",
       "      <th>month</th>\n",
       "    </tr>\n",
       "  </thead>\n",
       "  <tbody>\n",
       "    <tr>\n",
       "      <th>792626</th>\n",
       "      <td>81.0</td>\n",
       "      <td>2</td>\n",
       "      <td>94</td>\n",
       "      <td>3034</td>\n",
       "      <td>192</td>\n",
       "      <td>2572</td>\n",
       "      <td>5</td>\n",
       "      <td>5</td>\n",
       "      <td>1</td>\n",
       "    </tr>\n",
       "    <tr>\n",
       "      <th>152875</th>\n",
       "      <td>4.0</td>\n",
       "      <td>1</td>\n",
       "      <td>75</td>\n",
       "      <td>694</td>\n",
       "      <td>504</td>\n",
       "      <td>2572</td>\n",
       "      <td>5</td>\n",
       "      <td>5</td>\n",
       "      <td>1</td>\n",
       "    </tr>\n",
       "    <tr>\n",
       "      <th>1270327</th>\n",
       "      <td>37.0</td>\n",
       "      <td>2</td>\n",
       "      <td>11</td>\n",
       "      <td>3154</td>\n",
       "      <td>636</td>\n",
       "      <td>2572</td>\n",
       "      <td>5</td>\n",
       "      <td>5</td>\n",
       "      <td>1</td>\n",
       "    </tr>\n",
       "    <tr>\n",
       "      <th>958421</th>\n",
       "      <td>4.0</td>\n",
       "      <td>1</td>\n",
       "      <td>14</td>\n",
       "      <td>2151</td>\n",
       "      <td>732</td>\n",
       "      <td>2572</td>\n",
       "      <td>5</td>\n",
       "      <td>5</td>\n",
       "      <td>1</td>\n",
       "    </tr>\n",
       "    <tr>\n",
       "      <th>748466</th>\n",
       "      <td>136.0</td>\n",
       "      <td>1</td>\n",
       "      <td>15</td>\n",
       "      <td>6033</td>\n",
       "      <td>1020</td>\n",
       "      <td>2572</td>\n",
       "      <td>5</td>\n",
       "      <td>5</td>\n",
       "      <td>1</td>\n",
       "    </tr>\n",
       "  </tbody>\n",
       "</table>\n",
       "</div>"
      ],
      "text/plain": [
       "         delays direction line next_station_diva_nach should_arrive_at  \\\n",
       "792626     81.0         2   94                   3034              192   \n",
       "152875      4.0         1   75                    694              504   \n",
       "1270327    37.0         2   11                   3154              636   \n",
       "958421      4.0         1   14                   2151              732   \n",
       "748466    136.0         1   15                   6033             1020   \n",
       "\n",
       "        station_diva_id  day_of_week  day  month  \n",
       "792626             2572            5    5      1  \n",
       "152875             2572            5    5      1  \n",
       "1270327            2572            5    5      1  \n",
       "958421             2572            5    5      1  \n",
       "748466             2572            5    5      1  "
      ]
     },
     "execution_count": 10,
     "metadata": {},
     "output_type": "execute_result"
    }
   ],
   "source": [
    "# Add column to represent day of week\n",
    "# ds['date'] = pd.to_datetime(ds['date'])\n",
    "ds['day_of_week'] = pd.to_datetime(ds['date']).dt.weekday\n",
    "\n",
    "# split date into day, month, year\n",
    "ds['day'] = pd.to_datetime(ds['date']).dt.day\n",
    "ds['month'] = pd.to_datetime(ds['date']).dt.month\n",
    "# ds['year'] = pd.to_datetime(ds['date']).dt.year\n",
    "\n",
    "# drop date column because we splitted it\n",
    "ds = ds.drop('date', axis = 1)\n",
    "\n",
    "# drop 'actually_arrived_at' column because we have delays now!\n",
    "ds = ds.drop('actually_arrived_at', axis = 1)\n",
    "\n",
    "# Saving feature names for later use\n",
    "feature_list = list(ds.columns)\n",
    "\n",
    "print(ds.shape)\n",
    "ds.head()\n",
    "# ds.day_of_week.unique()"
   ]
  },
  {
   "cell_type": "code",
   "execution_count": 11,
   "metadata": {},
   "outputs": [],
   "source": [
    "# Convert to numpy array\n",
    "labels = np.array(ds.delays)\n",
    "features = np.array(ds.drop('delays', axis = 1))"
   ]
  },
  {
   "cell_type": "markdown",
   "metadata": {},
   "source": [
    "As there are some 0 in labels so when calculating accuracy, dividing by zero results in infinity, so adding 1 to all labels (i.e. delays). Now, 1 means no delay!"
   ]
  },
  {
   "cell_type": "code",
   "execution_count": 12,
   "metadata": {},
   "outputs": [],
   "source": [
    "labels = labels + 1"
   ]
  },
  {
   "cell_type": "code",
   "execution_count": 13,
   "metadata": {},
   "outputs": [
    {
     "name": "stdout",
     "output_type": "stream",
     "text": [
      "[[2 94 3034 192 2572 5 5 1]\n",
      " [1 75 694 504 2572 5 5 1]\n",
      " [2 11 3154 636 2572 5 5 1]\n",
      " [1 14 2151 732 2572 5 5 1]\n",
      " [1 15 6033 1020 2572 5 5 1]]\n",
      "[ 82.   5.  38.   5. 137.]\n"
     ]
    }
   ],
   "source": [
    "print(features[:5])\n",
    "print(labels[:5])"
   ]
  },
  {
   "cell_type": "code",
   "execution_count": 14,
   "metadata": {},
   "outputs": [],
   "source": [
    "# delete variables\n",
    "del ds\n",
    "del stationDS"
   ]
  },
  {
   "cell_type": "code",
   "execution_count": 15,
   "metadata": {},
   "outputs": [
    {
     "name": "stdout",
     "output_type": "stream",
     "text": [
      "Training Features Shape: (70452, 8)\n",
      "Training Labels Shape: (70452,)\n",
      "Testing Features Shape: (17614, 8)\n",
      "Testing Labels Shape: (17614,)\n"
     ]
    }
   ],
   "source": [
    "from sklearn.model_selection import train_test_split\n",
    "\n",
    "# train_features, test_features, train_labels, test_labels = train_test_split(\n",
    "#     features, labels, test_size = 0.20, random_state = 42\n",
    "# );\n",
    "\n",
    "train_features, test_features, train_labels, test_labels = train_test_split(\n",
    "    features, labels, test_size = 0.20, shuffle=False\n",
    ");\n",
    "\n",
    "print('Training Features Shape:', train_features.shape)\n",
    "print('Training Labels Shape:', train_labels.shape)\n",
    "print('Testing Features Shape:', test_features.shape)\n",
    "print('Testing Labels Shape:', test_labels.shape)"
   ]
  },
  {
   "cell_type": "code",
   "execution_count": 16,
   "metadata": {},
   "outputs": [],
   "source": [
    "from sklearn.ensemble import RandomForestRegressor\n",
    "\n",
    "# Instantiate model with 1000 decision trees\n",
    "rf = RandomForestRegressor(n_estimators = 1000, random_state = 42)\n",
    "\n",
    "# Train the model on training data\n",
    "rf.fit(train_features, train_labels);"
   ]
  },
  {
   "cell_type": "code",
   "execution_count": 17,
   "metadata": {},
   "outputs": [
    {
     "name": "stdout",
     "output_type": "stream",
     "text": [
      "mean of delay:  71.91379192878068\n"
     ]
    }
   ],
   "source": [
    "print('mean of delay: ', labels.mean())"
   ]
  },
  {
   "cell_type": "code",
   "execution_count": 18,
   "metadata": {},
   "outputs": [],
   "source": [
    "# Use the forest's predict method on the training data\n",
    "train_predictions = rf.predict(train_features)"
   ]
  },
  {
   "cell_type": "code",
   "execution_count": 19,
   "metadata": {},
   "outputs": [
    {
     "name": "stdout",
     "output_type": "stream",
     "text": [
      "[Train] Average error: 17.05\n",
      "[Train] SSE:  24.5\n"
     ]
    }
   ],
   "source": [
    "# training set errors\n",
    "# Calculate the absolute errors\n",
    "train_errors = abs(train_predictions - train_labels)\n",
    "\n",
    "print('[Train] Average error:', round(np.mean(train_errors), 2))\n",
    "\n",
    "print('[Train] SSE: ', round(np.sqrt(np.mean(np.square(train_errors))), 2))"
   ]
  },
  {
   "cell_type": "code",
   "execution_count": 21,
   "metadata": {},
   "outputs": [
    {
     "name": "stdout",
     "output_type": "stream",
     "text": [
      "[ 82.   5.  38.   5. 137.   8.   7.   7.  28.  48.  34.  17. 101.  99.\n",
      "  88.  74.  93.  41.  10.  42.]\n",
      "[ 67.524  15.014  41.491  15.784 108.002  28.271  29.227  17.367  39.148\n",
      "  47.846  43.51   30.8    73.898  85.022  83.035  70.44   98.376  53.795\n",
      "  31.124  53.156]\n"
     ]
    }
   ],
   "source": [
    "print(train_labels[:20])\n",
    "print(train_predictions[:20])"
   ]
  },
  {
   "cell_type": "code",
   "execution_count": 23,
   "metadata": {},
   "outputs": [
    {
     "name": "stdout",
     "output_type": "stream",
     "text": [
      "[ 29. 134. 117.   7.  41. 220.  16. 405. 115.   5.  41.  12.  57. 175.\n",
      "  16.   6.   4. 365.  39.  36.]\n",
      "[ 51.15  110.512 204.902  39.199  31.773 241.541  47.399 195.28   71.864\n",
      "  41.687 202.727 176.888  52.386 174.976  31.927  50.938 212.853 196.984\n",
      "  71.951  42.351]\n",
      "[Test] Average error: 53.0\n",
      "[Test] SSE:  78.95\n"
     ]
    }
   ],
   "source": [
    "# Use the forest's predict method on the test data\n",
    "test_predictions = rf.predict(test_features)\n",
    "\n",
    "print(test_labels[:20])\n",
    "print(test_predictions[:20])\n",
    "\n",
    "# Test set errors\n",
    "# Calculate the absolute errors\n",
    "test_errors = abs(test_predictions - test_labels)\n",
    "\n",
    "print('[Test] Average error:', round(np.mean(test_errors), 2))\n",
    " \n",
    "print('[Test] SSE: ', round(np.sqrt(np.mean(np.square(test_errors))), 2))\n",
    "# Print out the mean absolute error (mae)\n",
    "# print('Mean Absolute Error:', round(np.mean(errors), 2), 'degrees.')\n",
    "\n",
    "# Calculate mean absolute percentage error (MAPE)\n",
    "# mape = (errors / test_labels)\n",
    "\n",
    "# # Calculate and display accuracy\n",
    "# accuracy = 100 - np.mean(mape)\n",
    "# print('Accuracy:', round(accuracy, 2), '%.')"
   ]
  },
  {
   "cell_type": "code",
   "execution_count": null,
   "metadata": {},
   "outputs": [],
   "source": []
  }
 ],
 "metadata": {
  "kernelspec": {
   "display_name": "Python 3",
   "language": "python",
   "name": "python3"
  },
  "language_info": {
   "codemirror_mode": {
    "name": "ipython",
    "version": 3
   },
   "file_extension": ".py",
   "mimetype": "text/x-python",
   "name": "python",
   "nbconvert_exporter": "python",
   "pygments_lexer": "ipython3",
   "version": "3.7.3"
  }
 },
 "nbformat": 4,
 "nbformat_minor": 2
}
