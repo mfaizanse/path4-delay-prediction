{
 "cells": [
  {
   "cell_type": "markdown",
   "metadata": {},
   "source": [
    "# path4-delay-prediction data generation\n",
    "\n",
    "Download public transport data of Zurich:\n",
    "https://data.stadt-zuerich.ch/dataset/vbz-fahrzeiten-ogd"
   ]
  },
  {
   "cell_type": "code",
   "execution_count": 1,
   "metadata": {},
   "outputs": [],
   "source": [
    "import csv\n",
    "import numpy as np\n",
    "import pandas as pd\n",
    "import matplotlib.pyplot as plt"
   ]
  },
  {
   "cell_type": "code",
   "execution_count": 2,
   "metadata": {},
   "outputs": [],
   "source": [
    "col_names = ['line', 'direction', 'station_diva_id', 'date', 'should_arrive_at', \n",
    "              'actually_arrived_at', 'next_station_diva_nach']"
   ]
  },
  {
   "cell_type": "markdown",
   "metadata": {},
   "source": [
    "Only working with single public transport station to predict the behaviour on single station"
   ]
  },
  {
   "cell_type": "code",
   "execution_count": 3,
   "metadata": {},
   "outputs": [],
   "source": [
    "targetStationId = 2572"
   ]
  },
  {
   "cell_type": "markdown",
   "metadata": {},
   "source": [
    "Read weekly data, filter out and append to stationDS (i.e. station dataset)"
   ]
  },
  {
   "cell_type": "code",
   "execution_count": 4,
   "metadata": {},
   "outputs": [
    {
     "name": "stderr",
     "output_type": "stream",
     "text": [
      "/home/faizi/programs/anaconda3/envs/dps/lib/python3.7/site-packages/pandas/core/frame.py:6692: FutureWarning: Sorting because non-concatenation axis is not aligned. A future version\n",
      "of pandas will change to not sort by default.\n",
      "\n",
      "To accept the future behavior, pass 'sort=False'.\n",
      "\n",
      "To retain the current behavior and silence the warning, pass 'sort=True'.\n",
      "\n",
      "  sort=sort)\n"
     ]
    }
   ],
   "source": [
    "stationDS = pd.DataFrame(columns=col_names)\n",
    "\n",
    "csv_names = ['fahrzeiten_soll_ist_20190630_20190706.csv',\n",
    "             'fahrzeiten_soll_ist_20190623_20190629.csv',\n",
    "             'fahrzeiten_soll_ist_20190616_20190622.csv', \n",
    "             'fahrzeiten_soll_ist_20190609_20190615.csv',\n",
    "             'fahrzeiten_soll_ist_20190602_20190608.csv',\n",
    "             'fahrzeiten_soll_ist_20190526_20190601.csv',\n",
    "             'fahrzeiten_soll_ist_20190519_20190525.csv',\n",
    "             'fahrzeiten_soll_ist_20190512_20190518.csv',\n",
    "             'fahrzeiten_soll_ist_20190505_20190511.csv',\n",
    "             'fahrzeiten_soll_ist_20190428_20190504.csv',\n",
    "             'fahrzeiten_soll_ist_20190421_20190427.csv',\n",
    "             'fahrzeiten_soll_ist_20190414_20190420.csv']\n",
    "\n",
    "for name in csv_names:\n",
    "    dataSet = pd.read_csv('data/' + name)\n",
    "    # filter required columns\n",
    "    ds = dataSet.loc[:, ['linie', 'richtung', 'halt_diva_von', 'datum_von', 'soll_an_von', 'ist_an_von', 'halt_diva_nach']]\n",
    "    # filter data for only the target station\n",
    "    ds = ds.loc[ds['halt_diva_von'] == targetStationId]\n",
    "    # rename column name to English\n",
    "    ds.columns = col_names\n",
    "    # Calculate delays\n",
    "    ds['delays'] = ds['actually_arrived_at'] - ds['should_arrive_at']\n",
    "    # Filter out rows with delay 0 <= dealy < 200\n",
    "    ds = ds.loc[(ds['delays'] >= 0) & (ds['delays'] < 200)]\n",
    "    # Append to stationDS\n",
    "    stationDS = stationDS.append(ds.copy())\n",
    "    # Release memory\n",
    "    del ds"
   ]
  },
  {
   "cell_type": "code",
   "execution_count": 5,
   "metadata": {},
   "outputs": [
    {
     "name": "stdout",
     "output_type": "stream",
     "text": [
      "stationDS shape:  (82874, 8)\n"
     ]
    },
    {
     "data": {
      "text/html": [
       "<div>\n",
       "<style scoped>\n",
       "    .dataframe tbody tr th:only-of-type {\n",
       "        vertical-align: middle;\n",
       "    }\n",
       "\n",
       "    .dataframe tbody tr th {\n",
       "        vertical-align: top;\n",
       "    }\n",
       "\n",
       "    .dataframe thead th {\n",
       "        text-align: right;\n",
       "    }\n",
       "</style>\n",
       "<table border=\"1\" class=\"dataframe\">\n",
       "  <thead>\n",
       "    <tr style=\"text-align: right;\">\n",
       "      <th></th>\n",
       "      <th>actually_arrived_at</th>\n",
       "      <th>date</th>\n",
       "      <th>delays</th>\n",
       "      <th>direction</th>\n",
       "      <th>line</th>\n",
       "      <th>next_station_diva_nach</th>\n",
       "      <th>should_arrive_at</th>\n",
       "      <th>station_diva_id</th>\n",
       "    </tr>\n",
       "  </thead>\n",
       "  <tbody>\n",
       "    <tr>\n",
       "      <th>231946</th>\n",
       "      <td>16832</td>\n",
       "      <td>2019-04-14</td>\n",
       "      <td>32.0</td>\n",
       "      <td>1</td>\n",
       "      <td>12</td>\n",
       "      <td>3447</td>\n",
       "      <td>16800</td>\n",
       "      <td>2572</td>\n",
       "    </tr>\n",
       "    <tr>\n",
       "      <th>105772</th>\n",
       "      <td>18190</td>\n",
       "      <td>2019-04-14</td>\n",
       "      <td>136.0</td>\n",
       "      <td>2</td>\n",
       "      <td>14</td>\n",
       "      <td>3447</td>\n",
       "      <td>18054</td>\n",
       "      <td>2572</td>\n",
       "    </tr>\n",
       "    <tr>\n",
       "      <th>1318815</th>\n",
       "      <td>18293</td>\n",
       "      <td>2019-04-14</td>\n",
       "      <td>11.0</td>\n",
       "      <td>1</td>\n",
       "      <td>10</td>\n",
       "      <td>2151</td>\n",
       "      <td>18282</td>\n",
       "      <td>2572</td>\n",
       "    </tr>\n",
       "    <tr>\n",
       "      <th>783140</th>\n",
       "      <td>18332</td>\n",
       "      <td>2019-04-14</td>\n",
       "      <td>8.0</td>\n",
       "      <td>1</td>\n",
       "      <td>62</td>\n",
       "      <td>3154</td>\n",
       "      <td>18324</td>\n",
       "      <td>2572</td>\n",
       "    </tr>\n",
       "    <tr>\n",
       "      <th>345655</th>\n",
       "      <td>18415</td>\n",
       "      <td>2019-04-14</td>\n",
       "      <td>31.0</td>\n",
       "      <td>1</td>\n",
       "      <td>75</td>\n",
       "      <td>694</td>\n",
       "      <td>18384</td>\n",
       "      <td>2572</td>\n",
       "    </tr>\n",
       "    <tr>\n",
       "      <th>951210</th>\n",
       "      <td>18758</td>\n",
       "      <td>2019-04-14</td>\n",
       "      <td>26.0</td>\n",
       "      <td>1</td>\n",
       "      <td>14</td>\n",
       "      <td>2151</td>\n",
       "      <td>18732</td>\n",
       "      <td>2572</td>\n",
       "    </tr>\n",
       "    <tr>\n",
       "      <th>467128</th>\n",
       "      <td>18866</td>\n",
       "      <td>2019-04-14</td>\n",
       "      <td>14.0</td>\n",
       "      <td>1</td>\n",
       "      <td>11</td>\n",
       "      <td>3034</td>\n",
       "      <td>18852</td>\n",
       "      <td>2572</td>\n",
       "    </tr>\n",
       "    <tr>\n",
       "      <th>118602</th>\n",
       "      <td>18904</td>\n",
       "      <td>2019-04-14</td>\n",
       "      <td>10.0</td>\n",
       "      <td>2</td>\n",
       "      <td>14</td>\n",
       "      <td>3447</td>\n",
       "      <td>18894</td>\n",
       "      <td>2572</td>\n",
       "    </tr>\n",
       "    <tr>\n",
       "      <th>486756</th>\n",
       "      <td>18961</td>\n",
       "      <td>2019-04-14</td>\n",
       "      <td>7.0</td>\n",
       "      <td>1</td>\n",
       "      <td>15</td>\n",
       "      <td>3034</td>\n",
       "      <td>18954</td>\n",
       "      <td>2572</td>\n",
       "    </tr>\n",
       "    <tr>\n",
       "      <th>402413</th>\n",
       "      <td>19445</td>\n",
       "      <td>2019-04-14</td>\n",
       "      <td>41.0</td>\n",
       "      <td>1</td>\n",
       "      <td>75</td>\n",
       "      <td>694</td>\n",
       "      <td>19404</td>\n",
       "      <td>2572</td>\n",
       "    </tr>\n",
       "  </tbody>\n",
       "</table>\n",
       "</div>"
      ],
      "text/plain": [
       "        actually_arrived_at       date  delays direction line  \\\n",
       "231946                16832 2019-04-14    32.0         1   12   \n",
       "105772                18190 2019-04-14   136.0         2   14   \n",
       "1318815               18293 2019-04-14    11.0         1   10   \n",
       "783140                18332 2019-04-14     8.0         1   62   \n",
       "345655                18415 2019-04-14    31.0         1   75   \n",
       "951210                18758 2019-04-14    26.0         1   14   \n",
       "467128                18866 2019-04-14    14.0         1   11   \n",
       "118602                18904 2019-04-14    10.0         2   14   \n",
       "486756                18961 2019-04-14     7.0         1   15   \n",
       "402413                19445 2019-04-14    41.0         1   75   \n",
       "\n",
       "        next_station_diva_nach should_arrive_at station_diva_id  \n",
       "231946                    3447            16800            2572  \n",
       "105772                    3447            18054            2572  \n",
       "1318815                   2151            18282            2572  \n",
       "783140                    3154            18324            2572  \n",
       "345655                     694            18384            2572  \n",
       "951210                    2151            18732            2572  \n",
       "467128                    3034            18852            2572  \n",
       "118602                    3447            18894            2572  \n",
       "486756                    3034            18954            2572  \n",
       "402413                     694            19404            2572  "
      ]
     },
     "execution_count": 5,
     "metadata": {},
     "output_type": "execute_result"
    }
   ],
   "source": [
    "print('stationDS shape: ', stationDS.shape)\n",
    "# sort data by date and expected arrival time\n",
    "stationDS['date'] = pd.to_datetime(stationDS['date'], format='%d.%m.%y')\n",
    "stationDS = stationDS.sort_values(by=['date', 'should_arrive_at'], ascending=True)\n",
    "stationDS.head(10)"
   ]
  },
  {
   "cell_type": "markdown",
   "metadata": {},
   "source": [
    "Save to file for reference"
   ]
  },
  {
   "cell_type": "code",
   "execution_count": 6,
   "metadata": {},
   "outputs": [],
   "source": [
    "fileToSave = 'data/generated/station_' + str(targetStationId) + '.csv'\n",
    "stationDS.to_csv(fileToSave, encoding='utf-8', index=False)"
   ]
  }
 ],
 "metadata": {
  "kernelspec": {
   "display_name": "Python 3",
   "language": "python",
   "name": "python3"
  },
  "language_info": {
   "codemirror_mode": {
    "name": "ipython",
    "version": 3
   },
   "file_extension": ".py",
   "mimetype": "text/x-python",
   "name": "python",
   "nbconvert_exporter": "python",
   "pygments_lexer": "ipython3",
   "version": "3.7.3"
  }
 },
 "nbformat": 4,
 "nbformat_minor": 2
}
